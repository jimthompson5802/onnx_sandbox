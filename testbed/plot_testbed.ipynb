{
 "cells": [
  {
   "cell_type": "code",
   "execution_count": 2,
   "id": "5e4bc69e-ba1c-459e-b12b-accc97846edf",
   "metadata": {},
   "outputs": [],
   "source": [
    "import os\n",
    "import sys\n",
    "import pandas as pd\n",
    "import numpy as np\n",
    "import matplotlib.pyplot as plt\n",
    "import seaborn as sns\n",
    "\n",
    "from io import StringIO"
   ]
  },
  {
   "cell_type": "code",
   "execution_count": 13,
   "id": "60350e7a-0ee6-452f-8c2f-28254fd3500d",
   "metadata": {},
   "outputs": [],
   "source": [
    "test_data = \"\"\"county_id,model_load_time_ms,model_score_time_ms\n",
    "A,100.,2.\n",
    "A,200,3\n",
    "A,125,4\n",
    "B,500,3\n",
    "B,700,4\n",
    "B,800,4\n",
    "C,300,5\n",
    "C,325,6\n",
    "C,400,8\n",
    "\"\"\""
   ]
  },
  {
   "cell_type": "code",
   "execution_count": 14,
   "id": "428d36c6-9d02-4d47-b7f9-f2e542224dd3",
   "metadata": {},
   "outputs": [
    {
     "data": {
      "text/html": [
       "<div>\n",
       "<style scoped>\n",
       "    .dataframe tbody tr th:only-of-type {\n",
       "        vertical-align: middle;\n",
       "    }\n",
       "\n",
       "    .dataframe tbody tr th {\n",
       "        vertical-align: top;\n",
       "    }\n",
       "\n",
       "    .dataframe thead th {\n",
       "        text-align: right;\n",
       "    }\n",
       "</style>\n",
       "<table border=\"1\" class=\"dataframe\">\n",
       "  <thead>\n",
       "    <tr style=\"text-align: right;\">\n",
       "      <th></th>\n",
       "      <th>county_id</th>\n",
       "      <th>model_load_time_ms</th>\n",
       "      <th>model_score_time_ms</th>\n",
       "    </tr>\n",
       "  </thead>\n",
       "  <tbody>\n",
       "    <tr>\n",
       "      <th>0</th>\n",
       "      <td>A</td>\n",
       "      <td>100.0</td>\n",
       "      <td>2.0</td>\n",
       "    </tr>\n",
       "    <tr>\n",
       "      <th>1</th>\n",
       "      <td>A</td>\n",
       "      <td>200.0</td>\n",
       "      <td>3.0</td>\n",
       "    </tr>\n",
       "    <tr>\n",
       "      <th>2</th>\n",
       "      <td>A</td>\n",
       "      <td>125.0</td>\n",
       "      <td>4.0</td>\n",
       "    </tr>\n",
       "    <tr>\n",
       "      <th>3</th>\n",
       "      <td>B</td>\n",
       "      <td>500.0</td>\n",
       "      <td>3.0</td>\n",
       "    </tr>\n",
       "    <tr>\n",
       "      <th>4</th>\n",
       "      <td>B</td>\n",
       "      <td>700.0</td>\n",
       "      <td>4.0</td>\n",
       "    </tr>\n",
       "    <tr>\n",
       "      <th>5</th>\n",
       "      <td>B</td>\n",
       "      <td>800.0</td>\n",
       "      <td>4.0</td>\n",
       "    </tr>\n",
       "    <tr>\n",
       "      <th>6</th>\n",
       "      <td>C</td>\n",
       "      <td>300.0</td>\n",
       "      <td>5.0</td>\n",
       "    </tr>\n",
       "    <tr>\n",
       "      <th>7</th>\n",
       "      <td>C</td>\n",
       "      <td>325.0</td>\n",
       "      <td>6.0</td>\n",
       "    </tr>\n",
       "    <tr>\n",
       "      <th>8</th>\n",
       "      <td>C</td>\n",
       "      <td>400.0</td>\n",
       "      <td>8.0</td>\n",
       "    </tr>\n",
       "  </tbody>\n",
       "</table>\n",
       "</div>"
      ],
      "text/plain": [
       "  county_id  model_load_time_ms  model_score_time_ms\n",
       "0         A               100.0                  2.0\n",
       "1         A               200.0                  3.0\n",
       "2         A               125.0                  4.0\n",
       "3         B               500.0                  3.0\n",
       "4         B               700.0                  4.0\n",
       "5         B               800.0                  4.0\n",
       "6         C               300.0                  5.0\n",
       "7         C               325.0                  6.0\n",
       "8         C               400.0                  8.0"
      ]
     },
     "execution_count": 14,
     "metadata": {},
     "output_type": "execute_result"
    }
   ],
   "source": [
    "df = pd.read_csv(StringIO(test_data))\n",
    "df"
   ]
  },
  {
   "cell_type": "code",
   "execution_count": 46,
   "id": "5dafccb6-042e-4c4b-945e-8f8226b33170",
   "metadata": {},
   "outputs": [
    {
     "data": {
      "text/html": [
       "<div>\n",
       "<style scoped>\n",
       "    .dataframe tbody tr th:only-of-type {\n",
       "        vertical-align: middle;\n",
       "    }\n",
       "\n",
       "    .dataframe tbody tr th {\n",
       "        vertical-align: top;\n",
       "    }\n",
       "\n",
       "    .dataframe thead tr th {\n",
       "        text-align: left;\n",
       "    }\n",
       "\n",
       "    .dataframe thead tr:last-of-type th {\n",
       "        text-align: right;\n",
       "    }\n",
       "</style>\n",
       "<table border=\"1\" class=\"dataframe\">\n",
       "  <thead>\n",
       "    <tr>\n",
       "      <th></th>\n",
       "      <th colspan=\"8\" halign=\"left\">model_load_time_ms</th>\n",
       "      <th colspan=\"8\" halign=\"left\">model_score_time_ms</th>\n",
       "    </tr>\n",
       "    <tr>\n",
       "      <th></th>\n",
       "      <th>count</th>\n",
       "      <th>mean</th>\n",
       "      <th>std</th>\n",
       "      <th>min</th>\n",
       "      <th>25%</th>\n",
       "      <th>50%</th>\n",
       "      <th>75%</th>\n",
       "      <th>max</th>\n",
       "      <th>count</th>\n",
       "      <th>mean</th>\n",
       "      <th>std</th>\n",
       "      <th>min</th>\n",
       "      <th>25%</th>\n",
       "      <th>50%</th>\n",
       "      <th>75%</th>\n",
       "      <th>max</th>\n",
       "    </tr>\n",
       "    <tr>\n",
       "      <th>county_id</th>\n",
       "      <th></th>\n",
       "      <th></th>\n",
       "      <th></th>\n",
       "      <th></th>\n",
       "      <th></th>\n",
       "      <th></th>\n",
       "      <th></th>\n",
       "      <th></th>\n",
       "      <th></th>\n",
       "      <th></th>\n",
       "      <th></th>\n",
       "      <th></th>\n",
       "      <th></th>\n",
       "      <th></th>\n",
       "      <th></th>\n",
       "      <th></th>\n",
       "    </tr>\n",
       "  </thead>\n",
       "  <tbody>\n",
       "    <tr>\n",
       "      <th>A</th>\n",
       "      <td>3.0</td>\n",
       "      <td>141.666667</td>\n",
       "      <td>52.041650</td>\n",
       "      <td>100.0</td>\n",
       "      <td>112.5</td>\n",
       "      <td>125.0</td>\n",
       "      <td>162.5</td>\n",
       "      <td>200.0</td>\n",
       "      <td>3.0</td>\n",
       "      <td>3.000000</td>\n",
       "      <td>1.000000</td>\n",
       "      <td>2.0</td>\n",
       "      <td>2.5</td>\n",
       "      <td>3.0</td>\n",
       "      <td>3.5</td>\n",
       "      <td>4.0</td>\n",
       "    </tr>\n",
       "    <tr>\n",
       "      <th>B</th>\n",
       "      <td>3.0</td>\n",
       "      <td>666.666667</td>\n",
       "      <td>152.752523</td>\n",
       "      <td>500.0</td>\n",
       "      <td>600.0</td>\n",
       "      <td>700.0</td>\n",
       "      <td>750.0</td>\n",
       "      <td>800.0</td>\n",
       "      <td>3.0</td>\n",
       "      <td>3.666667</td>\n",
       "      <td>0.577350</td>\n",
       "      <td>3.0</td>\n",
       "      <td>3.5</td>\n",
       "      <td>4.0</td>\n",
       "      <td>4.0</td>\n",
       "      <td>4.0</td>\n",
       "    </tr>\n",
       "    <tr>\n",
       "      <th>C</th>\n",
       "      <td>3.0</td>\n",
       "      <td>341.666667</td>\n",
       "      <td>52.041650</td>\n",
       "      <td>300.0</td>\n",
       "      <td>312.5</td>\n",
       "      <td>325.0</td>\n",
       "      <td>362.5</td>\n",
       "      <td>400.0</td>\n",
       "      <td>3.0</td>\n",
       "      <td>6.333333</td>\n",
       "      <td>1.527525</td>\n",
       "      <td>5.0</td>\n",
       "      <td>5.5</td>\n",
       "      <td>6.0</td>\n",
       "      <td>7.0</td>\n",
       "      <td>8.0</td>\n",
       "    </tr>\n",
       "  </tbody>\n",
       "</table>\n",
       "</div>"
      ],
      "text/plain": [
       "          model_load_time_ms                                               \\\n",
       "                       count        mean         std    min    25%    50%   \n",
       "county_id                                                                   \n",
       "A                        3.0  141.666667   52.041650  100.0  112.5  125.0   \n",
       "B                        3.0  666.666667  152.752523  500.0  600.0  700.0   \n",
       "C                        3.0  341.666667   52.041650  300.0  312.5  325.0   \n",
       "\n",
       "                        model_score_time_ms                                \\\n",
       "             75%    max               count      mean       std  min  25%   \n",
       "county_id                                                                   \n",
       "A          162.5  200.0                 3.0  3.000000  1.000000  2.0  2.5   \n",
       "B          750.0  800.0                 3.0  3.666667  0.577350  3.0  3.5   \n",
       "C          362.5  400.0                 3.0  6.333333  1.527525  5.0  5.5   \n",
       "\n",
       "                          \n",
       "           50%  75%  max  \n",
       "county_id                 \n",
       "A          3.0  3.5  4.0  \n",
       "B          4.0  4.0  4.0  \n",
       "C          6.0  7.0  8.0  "
      ]
     },
     "execution_count": 46,
     "metadata": {},
     "output_type": "execute_result"
    }
   ],
   "source": [
    "county_metrics = df.groupby(['county_id']).describe()\n",
    "county_metrics"
   ]
  },
  {
   "cell_type": "code",
   "execution_count": 47,
   "id": "7a957113-e45f-40b2-9c41-5cd9cb9c7b3a",
   "metadata": {},
   "outputs": [
    {
     "data": {
      "text/html": [
       "<div>\n",
       "<style scoped>\n",
       "    .dataframe tbody tr th:only-of-type {\n",
       "        vertical-align: middle;\n",
       "    }\n",
       "\n",
       "    .dataframe tbody tr th {\n",
       "        vertical-align: top;\n",
       "    }\n",
       "\n",
       "    .dataframe thead th {\n",
       "        text-align: right;\n",
       "    }\n",
       "</style>\n",
       "<table border=\"1\" class=\"dataframe\">\n",
       "  <thead>\n",
       "    <tr style=\"text-align: right;\">\n",
       "      <th></th>\n",
       "      <th>category</th>\n",
       "      <th>metric</th>\n",
       "      <th>county_id</th>\n",
       "      <th>value</th>\n",
       "    </tr>\n",
       "  </thead>\n",
       "  <tbody>\n",
       "    <tr>\n",
       "      <th>0</th>\n",
       "      <td>model_load_time_ms</td>\n",
       "      <td>count</td>\n",
       "      <td>A</td>\n",
       "      <td>3.000000</td>\n",
       "    </tr>\n",
       "    <tr>\n",
       "      <th>1</th>\n",
       "      <td>model_load_time_ms</td>\n",
       "      <td>count</td>\n",
       "      <td>B</td>\n",
       "      <td>3.000000</td>\n",
       "    </tr>\n",
       "    <tr>\n",
       "      <th>2</th>\n",
       "      <td>model_load_time_ms</td>\n",
       "      <td>count</td>\n",
       "      <td>C</td>\n",
       "      <td>3.000000</td>\n",
       "    </tr>\n",
       "    <tr>\n",
       "      <th>3</th>\n",
       "      <td>model_load_time_ms</td>\n",
       "      <td>mean</td>\n",
       "      <td>A</td>\n",
       "      <td>141.666667</td>\n",
       "    </tr>\n",
       "    <tr>\n",
       "      <th>4</th>\n",
       "      <td>model_load_time_ms</td>\n",
       "      <td>mean</td>\n",
       "      <td>B</td>\n",
       "      <td>666.666667</td>\n",
       "    </tr>\n",
       "  </tbody>\n",
       "</table>\n",
       "</div>"
      ],
      "text/plain": [
       "             category metric county_id       value\n",
       "0  model_load_time_ms  count         A    3.000000\n",
       "1  model_load_time_ms  count         B    3.000000\n",
       "2  model_load_time_ms  count         C    3.000000\n",
       "3  model_load_time_ms   mean         A  141.666667\n",
       "4  model_load_time_ms   mean         B  666.666667"
      ]
     },
     "execution_count": 47,
     "metadata": {},
     "output_type": "execute_result"
    }
   ],
   "source": [
    "metrics = county_metrics.unstack().reset_index()\n",
    "metrics.columns = ['category', 'metric', 'county_id', 'value']\n",
    "metrics.head()"
   ]
  },
  {
   "cell_type": "raw",
   "id": "d2bf1c7b-7a8c-46b3-b096-e00979fe2918",
   "metadata": {},
   "source": [
    "metrics = metrics.loc[metrics.category == 'mean']"
   ]
  },
  {
   "cell_type": "code",
   "execution_count": 58,
   "id": "51dd38a5-d603-45a7-8b61-a0c1943ebb27",
   "metadata": {},
   "outputs": [
    {
     "data": {
      "image/png": "[encoded data removed]",
      "text/plain": [
       "<Figure size 432x288 with 2 Axes>"
      ]
     },
     "metadata": {
      "needs_background": "light"
     },
     "output_type": "display_data"
    }
   ],
   "source": [
    "# Plot\n",
    "fig, ax1 = plt.subplots()\n",
    "g = sns.barplot(x=\"county_id\", y=\"value\", hue='category', ci=None,\n",
    "                data=metrics, ax=ax1)\n",
    "# width_scale = 0.45\n",
    "# Create a second y-axis with the scaled ticks\n",
    "ax1.set_ylabel('mean load time (ms)')\n",
    "ax1.set_yscale('log')\n",
    "\n",
    "ax2 = ax1.twinx() \n",
    "ax2.set_ylabel('mean score time (ms)')\n",
    "ax2.set_ylim(0, 1000)\n",
    " \n",
    "plt.show()"
   ]
  },
  {
   "cell_type": "code",
   "execution_count": 42,
   "id": "66950551-787c-489d-9941-c51386854d2e",
   "metadata": {},
   "outputs": [
    {
     "data": {
      "text/plain": [
       "140708742237056"
      ]
     },
     "execution_count": 42,
     "metadata": {},
     "output_type": "execute_result"
    }
   ],
   "source": [
    "id(ax2.containers[0])"
   ]
  },
  {
   "cell_type": "code",
   "execution_count": 36,
   "id": "b7a34412-743a-4b96-827e-d54bc86c3dbd",
   "metadata": {},
   "outputs": [
    {
     "data": {
      "text/plain": [
       "2"
      ]
     },
     "execution_count": 36,
     "metadata": {},
     "output_type": "execute_result"
    }
   ],
   "source": [
    "len(ax1.containers)"
   ]
  },
  {
   "cell_type": "code",
   "execution_count": 43,
   "id": "e49c73db-ab99-4282-95de-8bd633574e09",
   "metadata": {},
   "outputs": [
    {
     "data": {
      "text/plain": [
       "140708750533072"
      ]
     },
     "execution_count": 43,
     "metadata": {},
     "output_type": "execute_result"
    }
   ],
   "source": [
    "id(ax1.containers[0])"
   ]
  },
  {
   "cell_type": "code",
   "execution_count": null,
   "id": "02a0dd80-d430-4705-929c-8882e405a311",
   "metadata": {},
   "outputs": [],
   "source": []
  }
 ],
 "metadata": {
  "kernelspec": {
   "display_name": "onnx_training",
   "language": "python",
   "name": "onnx_training"
  },
  "language_info": {
   "codemirror_mode": {
    "name": "ipython",
    "version": 3
   },
   "file_extension": ".py",
   "mimetype": "text/x-python",
   "name": "python",
   "nbconvert_exporter": "python",
   "pygments_lexer": "ipython3",
   "version": "3.9.0"
  }
 },
 "nbformat": 4,
 "nbformat_minor": 5
}
