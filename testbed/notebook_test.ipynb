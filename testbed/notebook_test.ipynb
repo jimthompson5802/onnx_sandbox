{
 "cells": [
  {
   "cell_type": "markdown",
   "id": "18e81773-6662-40e8-9440-cf48e2c90cbd",
   "metadata": {},
   "source": [
    "# Test of notebook run-time environment\n",
    "Purpose of notebook is to smoke environment setup and prototype code to load sklearn Random Forest Regressor model from external storage.\n",
    "\n",
    "## Metrics reported in this notebook are from synthetic data and **have not** been calibrated to representative dataset or model sizes.\n"
   ]
  },
  {
   "cell_type": "markdown",
   "id": "2e37a441-ad84-4aa2-860a-955be1ee7a51",
   "metadata": {},
   "source": [
    "## Notebook run-time enviornment\n",
    "* **Hardware:** MacBook Pro (2019), 16GB RAM, 1TB SSD drive\n",
    "* **OS:** MacOS 11.6.1\n",
    "* **Docker:** Docker for Desktop (Mac)\n",
    "* **Docker Image:** Base image: `jupyter/datascience-notebook` with ONNX packages added"
   ]
  },
  {
   "cell_type": "markdown",
   "id": "4781ac56-d33d-4092-a983-b20a4381e792",
   "metadata": {},
   "source": [
    "## Key software versions"
   ]
  },
  {
   "cell_type": "code",
   "execution_count": 1,
   "id": "64ab3de6-b1d2-4c5a-8933-5a2004d0ef05",
   "metadata": {},
   "outputs": [
    {
     "name": "stdout",
     "output_type": "stream",
     "text": [
      "Python 3.9.7\n"
     ]
    }
   ],
   "source": [
    "!python --version"
   ]
  },
  {
   "cell_type": "code",
   "execution_count": 2,
   "id": "6a18d762-05a1-4028-ae85-4051a757cce6",
   "metadata": {},
   "outputs": [
    {
     "name": "stdout",
     "output_type": "stream",
     "text": [
      "# packages in environment at /opt/conda/envs/onnx_sandbox:\n",
      "numpy                     1.21.2           py39h20f2e39_0    defaults\n",
      "numpy-base                1.21.2           py39h79a1101_0    defaults\n",
      "onnx                      1.10.2           py39h8b1bc1a_2    conda-forge\n",
      "onnxconverter-common      1.8.1              pyhd8ed1ab_0    conda-forge\n",
      "onnxruntime               1.10.0           py39h15e0acf_2    conda-forge\n",
      "pandas                    1.3.5            py39h8c16a72_0    defaults\n",
      "scikit-learn              1.0.1            py39h51133e4_0    defaults\n",
      "skl2onnx                  1.10.3             pyhd8ed1ab_0    conda-forge\n"
     ]
    }
   ],
   "source": [
    "!conda list -n onnx_sandbox | grep \"\\(onnx\\|scikit\\|numpy\\|pandas\\)\""
   ]
  },
  {
   "cell_type": "markdown",
   "id": "38fa3a48-3078-46cd-b6c9-5566d324b427",
   "metadata": {},
   "source": [
    "## Import required libraries"
   ]
  },
  {
   "cell_type": "code",
   "execution_count": 3,
   "id": "966424ea-1b21-4367-bd9a-3f64c5ce0fce",
   "metadata": {},
   "outputs": [],
   "source": [
    "import os\n",
    "import pandas as pd\n",
    "import numpy as np\n",
    "import onnxruntime as rt\n",
    "import pickle"
   ]
  },
  {
   "cell_type": "markdown",
   "id": "9a6acbdc-c6d2-493e-aa13-a140bccd157e",
   "metadata": {
    "tags": []
   },
   "source": [
    "## Setup on configuration for analysis"
   ]
  },
  {
   "cell_type": "code",
   "execution_count": 4,
   "id": "202c2444-a7fe-4cf7-965d-dbcad4ddf31e",
   "metadata": {},
   "outputs": [],
   "source": [
    "# required to allow for import of project speccific utility functions\n",
    "os.chdir('..')\n",
    "\n",
    "# import project specific utiity functions\n",
    "from utils.utils import load_config, rf_model_size_mb"
   ]
  },
  {
   "cell_type": "code",
   "execution_count": 5,
   "id": "89a1ab54-84a2-48ef-87ac-6bccf74d6547",
   "metadata": {},
   "outputs": [
    {
     "data": {
      "text/plain": [
       "{'data_dir': '/Users/jim/Desktop/onnx_sandbox/data',\n",
       " 'models_dir': '/Users/jim/Desktop/onnx_sandbox/models',\n",
       " 'number_records': 100000,\n",
       " 'number_features': 20,\n",
       " 'number_informative': 14,\n",
       " 'fraction_for_test': 0.2,\n",
       " 'number_counties': 20,\n",
       " 'random_seed': 123}"
      ]
     },
     "execution_count": 5,
     "metadata": {},
     "output_type": "execute_result"
    }
   ],
   "source": [
    "# get configuration parameters\n",
    "config = load_config('./config.yaml')\n",
    "config"
   ]
  },
  {
   "cell_type": "code",
   "execution_count": 6,
   "id": "19f5a6c8-d108-4954-b498-d9895e957b5b",
   "metadata": {},
   "outputs": [],
   "source": [
    "COUNTY_ID = 'cnty0000'\n",
    "DATA_DIR = config['data_dir']\n",
    "MODELS_DIR = config['models_dir']"
   ]
  },
  {
   "cell_type": "markdown",
   "id": "64bddd2f-ad99-4cc9-ab19-c108725bf9ee",
   "metadata": {},
   "source": [
    "## Retrieve test data set"
   ]
  },
  {
   "cell_type": "code",
   "execution_count": 7,
   "id": "826ad418-c977-4f33-ac19-0c84531bbade",
   "metadata": {},
   "outputs": [
    {
     "data": {
      "text/plain": [
       "(1024, 22)"
      ]
     },
     "execution_count": 7,
     "metadata": {},
     "output_type": "execute_result"
    }
   ],
   "source": [
    "test_df = pd.read_parquet(os.path.join(DATA_DIR, 'benchmark', 'test.parquet'))\n",
    "test_df = test_df.loc[test_df['county'] == COUNTY_ID]\n",
    "test_df.shape"
   ]
  },
  {
   "cell_type": "code",
   "execution_count": 8,
   "id": "1ec649a1-3b9f-4ed7-a9e3-f7def8d9efe7",
   "metadata": {},
   "outputs": [
    {
     "data": {
      "text/html": [
       "<div>\n",
       "<style scoped>\n",
       "    .dataframe tbody tr th:only-of-type {\n",
       "        vertical-align: middle;\n",
       "    }\n",
       "\n",
       "    .dataframe tbody tr th {\n",
       "        vertical-align: top;\n",
       "    }\n",
       "\n",
       "    .dataframe thead th {\n",
       "        text-align: right;\n",
       "    }\n",
       "</style>\n",
       "<table border=\"1\" class=\"dataframe\">\n",
       "  <thead>\n",
       "    <tr style=\"text-align: right;\">\n",
       "      <th></th>\n",
       "      <th>county</th>\n",
       "      <th>X_00</th>\n",
       "      <th>X_01</th>\n",
       "      <th>X_02</th>\n",
       "      <th>X_03</th>\n",
       "      <th>X_04</th>\n",
       "      <th>X_05</th>\n",
       "      <th>X_06</th>\n",
       "      <th>X_07</th>\n",
       "      <th>X_08</th>\n",
       "      <th>...</th>\n",
       "      <th>X_11</th>\n",
       "      <th>X_12</th>\n",
       "      <th>X_13</th>\n",
       "      <th>X_14</th>\n",
       "      <th>X_15</th>\n",
       "      <th>X_16</th>\n",
       "      <th>X_17</th>\n",
       "      <th>X_18</th>\n",
       "      <th>X_19</th>\n",
       "      <th>y</th>\n",
       "    </tr>\n",
       "  </thead>\n",
       "  <tbody>\n",
       "    <tr>\n",
       "      <th>3</th>\n",
       "      <td>cnty0000</td>\n",
       "      <td>1.356254</td>\n",
       "      <td>-1.625286</td>\n",
       "      <td>0.038011</td>\n",
       "      <td>-0.417242</td>\n",
       "      <td>0.105904</td>\n",
       "      <td>0.998065</td>\n",
       "      <td>-0.939552</td>\n",
       "      <td>-0.321798</td>\n",
       "      <td>2.528673</td>\n",
       "      <td>...</td>\n",
       "      <td>1.310078</td>\n",
       "      <td>1.92076</td>\n",
       "      <td>-0.251311</td>\n",
       "      <td>1.092388</td>\n",
       "      <td>-0.094214</td>\n",
       "      <td>-0.459</td>\n",
       "      <td>-0.669557</td>\n",
       "      <td>0.266269</td>\n",
       "      <td>0.200396</td>\n",
       "      <td>136.709747</td>\n",
       "    </tr>\n",
       "  </tbody>\n",
       "</table>\n",
       "<p>1 rows × 22 columns</p>\n",
       "</div>"
      ],
      "text/plain": [
       "     county      X_00      X_01      X_02      X_03      X_04      X_05  \\\n",
       "3  cnty0000  1.356254 -1.625286  0.038011 -0.417242  0.105904  0.998065   \n",
       "\n",
       "       X_06      X_07      X_08  ...      X_11     X_12      X_13      X_14  \\\n",
       "3 -0.939552 -0.321798  2.528673  ...  1.310078  1.92076 -0.251311  1.092388   \n",
       "\n",
       "       X_15   X_16      X_17      X_18      X_19           y  \n",
       "3 -0.094214 -0.459 -0.669557  0.266269  0.200396  136.709747  \n",
       "\n",
       "[1 rows x 22 columns]"
      ]
     },
     "execution_count": 8,
     "metadata": {},
     "output_type": "execute_result"
    }
   ],
   "source": [
    "# retrieve one record to score\n",
    "one_record = pd.DataFrame(test_df.iloc[0,:]).T\n",
    "one_record"
   ]
  },
  {
   "cell_type": "markdown",
   "id": "1b96cb09-abf5-4318-a8b8-176097044683",
   "metadata": {},
   "source": [
    "## Score with pickle model file"
   ]
  },
  {
   "cell_type": "code",
   "execution_count": 9,
   "id": "d8694f6c-1fee-4e43-8bbc-2bc6b6a4e3e7",
   "metadata": {},
   "outputs": [
    {
     "name": "stdout",
     "output_type": "stream",
     "text": [
      "CPU times: user 268 ms, sys: 55.9 ms, total: 324 ms\n",
      "Wall time: 325 ms\n"
     ]
    },
    {
     "data": {
      "text/plain": [
       "RandomForestRegressor(random_state=123)"
      ]
     },
     "execution_count": 9,
     "metadata": {},
     "output_type": "execute_result"
    }
   ],
   "source": [
    "%%time\n",
    "# retrieve model from persistent storage\n",
    "with open(os.path.join(MODELS_DIR, 'testbed', COUNTY_ID+'.pkl'), 'rb') as f:\n",
    "    rf_pkl_model = pickle.load(f)\n",
    "rf_pkl_model"
   ]
  },
  {
   "cell_type": "code",
   "execution_count": 10,
   "id": "91916a05-b366-4311-bcdb-c4215733ad5e",
   "metadata": {},
   "outputs": [
    {
     "name": "stdout",
     "output_type": "stream",
     "text": [
      "Unpickled RF modle size: 30.2889 MB\n"
     ]
    }
   ],
   "source": [
    "print(f'Unpickled RF modle size: {rf_model_size_mb(rf_pkl_model)} MB')"
   ]
  },
  {
   "cell_type": "code",
   "execution_count": 11,
   "id": "d71d838a-40b3-4bbe-9546-d7d5157d984d",
   "metadata": {},
   "outputs": [
    {
     "name": "stdout",
     "output_type": "stream",
     "text": [
      "CPU times: user 12.4 ms, sys: 3.1 ms, total: 15.5 ms\n",
      "Wall time: 14.6 ms\n"
     ]
    }
   ],
   "source": [
    "%%time\n",
    "# score one record from test data set\n",
    "pkl_scores = rf_pkl_model.predict(one_record.drop(['county', 'y'], axis='columns'))"
   ]
  },
  {
   "cell_type": "markdown",
   "id": "285954f2-a54d-4857-8c08-c72ffa1d2510",
   "metadata": {},
   "source": [
    "## Score with onnx model file\n",
    "Based on [this example code](http://onnx.ai/sklearn-onnx/auto_examples/plot_convert_model.html#sphx-glr-auto-examples-plot-convert-model-py). \n",
    "Not clear how to obtain in-memory size for ONNX `sess` object."
   ]
  },
  {
   "cell_type": "code",
   "execution_count": 12,
   "id": "06cd7325-b0e0-499d-bbc2-d17bcb76115c",
   "metadata": {},
   "outputs": [
    {
     "name": "stdout",
     "output_type": "stream",
     "text": [
      "CPU times: user 576 ms, sys: 52.3 ms, total: 629 ms\n",
      "Wall time: 568 ms\n"
     ]
    }
   ],
   "source": [
    "%%time\n",
    "# retrieve model from file\n",
    "sess = rt.InferenceSession(os.path.join(MODELS_DIR, 'testbed', COUNTY_ID+'.onnx'))"
   ]
  },
  {
   "cell_type": "code",
   "execution_count": 13,
   "id": "2747f083-c443-4836-a705-f7a1f4188a35",
   "metadata": {},
   "outputs": [
    {
     "name": "stdout",
     "output_type": "stream",
     "text": [
      "CPU times: user 1.35 ms, sys: 0 ns, total: 1.35 ms\n",
      "Wall time: 1.46 ms\n"
     ]
    }
   ],
   "source": [
    "%%time\n",
    "# Score one record\n",
    "input_name = sess.get_inputs()[0].name\n",
    "label_name = sess.get_outputs()[0].name\n",
    "onnx_scores = sess.run([label_name], \n",
    "        {input_name: one_record.drop(['county', 'y'], axis='columns').astype(np.float32).to_numpy()})[0]"
   ]
  },
  {
   "cell_type": "markdown",
   "id": "dac9c06e-9c15-4b24-9634-9f8fc859da8a",
   "metadata": {},
   "source": [
    "## Compare predicted scores"
   ]
  },
  {
   "cell_type": "code",
   "execution_count": 14,
   "id": "5eb34e45-0888-4d05-bb39-59c8338da78f",
   "metadata": {},
   "outputs": [
    {
     "name": "stdout",
     "output_type": "stream",
     "text": [
      "Score from unpickled RF model: -98.02014, Score from ONNX RF model: -98.02013\n"
     ]
    }
   ],
   "source": [
    "print(\n",
    "    f'Score from unpickled RF model: {pkl_scores[0]:0.5f}, '\n",
    "    f'Score from ONNX RF model: {onnx_scores[0,0]:0.5f}'\n",
    ")"
   ]
  },
  {
   "cell_type": "markdown",
   "id": "0400b728-8ee5-42d1-8e8e-bb503f53c516",
   "metadata": {},
   "source": [
    "## Collect RF Structure metrics"
   ]
  },
  {
   "cell_type": "code",
   "execution_count": 15,
   "id": "8604218e-01d1-4e11-91ac-5f6cab7dca9f",
   "metadata": {},
   "outputs": [],
   "source": [
    "def get_rf_model_structure(model):\n",
    "    number_of_estimators = len(model.estimators_)\n",
    "    tree_depth = [tree.tree_.max_depth for tree in model.estimators_]\n",
    "    min_depth = np.min(tree_depth)\n",
    "    max_depth = np.max(tree_depth)\n",
    "    mean_depth = np.mean(tree_depth)\n",
    "    return number_of_estimators, min_depth, mean_depth, max_depth"
   ]
  },
  {
   "cell_type": "code",
   "execution_count": 16,
   "id": "57f65c24-bf53-4e13-8940-7943d5883f01",
   "metadata": {},
   "outputs": [],
   "source": [
    "number_trees, smallest_tree, average_tree, biggest_tree = get_rf_model_structure(rf_pkl_model)"
   ]
  },
  {
   "cell_type": "code",
   "execution_count": 17,
   "id": "6595d930-f7c3-4534-baf6-dd3f78bcf834",
   "metadata": {},
   "outputs": [
    {
     "name": "stdout",
     "output_type": "stream",
     "text": [
      "number of trees: 100, smallest tree size: 20. average tree size: 22.3, biggest tree size: 26\n"
     ]
    }
   ],
   "source": [
    "print(\n",
    "    f'number of trees: {number_trees}, smallest tree size: {smallest_tree}. '\n",
    "    f'average tree size: {average_tree}, biggest tree size: {biggest_tree}'\n",
    ")"
   ]
  },
  {
   "cell_type": "code",
   "execution_count": null,
   "id": "35173efa-e0ef-4844-94bf-33b3cfe685a6",
   "metadata": {},
   "outputs": [],
   "source": []
  }
 ],
 "metadata": {
  "kernelspec": {
   "display_name": "onnx_sandbox",
   "language": "python",
   "name": "onnx_sandbox"
  },
  "language_info": {
   "codemirror_mode": {
    "name": "ipython",
    "version": 3
   },
   "file_extension": ".py",
   "mimetype": "text/x-python",
   "name": "python",
   "nbconvert_exporter": "python",
   "pygments_lexer": "ipython3",
   "version": "3.9.7"
  }
 },
 "nbformat": 4,
 "nbformat_minor": 5
}
