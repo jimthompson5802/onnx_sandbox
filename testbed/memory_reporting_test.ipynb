{
 "cells": [
  {
   "cell_type": "markdown",
   "id": "18e81773-6662-40e8-9440-cf48e2c90cbd",
   "metadata": {},
   "source": [
    "# Reporting memory size\n",
    "\n",
    "\n",
    "## Metrics reported in this notebook are from synthetic data and **have not** been calibrated to representative dataset or model sizes.\n"
   ]
  },
  {
   "cell_type": "markdown",
   "id": "2e37a441-ad84-4aa2-860a-955be1ee7a51",
   "metadata": {},
   "source": [
    "## Notebook run-time enviornment\n",
    "* **Hardware:** MacBook Pro Intel(2019), 16GB RAM, 1TB SSD drive\n",
    "* **OS:** MacOS 11.6.1\n",
    "* **Docker:** Docker for Desktop 4.2.0 (Mac)\n",
    "* **Docker Image:** Base image: `jupyter/datascience-notebook:lab-3.2.5` with ONNX packages added"
   ]
  },
  {
   "cell_type": "markdown",
   "id": "4781ac56-d33d-4092-a983-b20a4381e792",
   "metadata": {},
   "source": [
    "## Key software versions"
   ]
  },
  {
   "cell_type": "code",
   "execution_count": 1,
   "id": "64ab3de6-b1d2-4c5a-8933-5a2004d0ef05",
   "metadata": {},
   "outputs": [
    {
     "name": "stdout",
     "output_type": "stream",
     "text": [
      "Python 3.9.7\n"
     ]
    }
   ],
   "source": [
    "!python --version"
   ]
  },
  {
   "cell_type": "code",
   "execution_count": 2,
   "id": "6a18d762-05a1-4028-ae85-4051a757cce6",
   "metadata": {},
   "outputs": [
    {
     "name": "stdout",
     "output_type": "stream",
     "text": [
      "# packages in environment at /opt/conda/envs/onnx_sandbox:\n",
      "numpy                     1.21.2           py39h20f2e39_0    defaults\n",
      "numpy-base                1.21.2           py39h79a1101_0    defaults\n",
      "onnx                      1.10.2           py39h8b1bc1a_2    conda-forge\n",
      "onnxconverter-common      1.8.1              pyhd8ed1ab_0    conda-forge\n",
      "onnxruntime               1.10.0           py39h15e0acf_2    conda-forge\n",
      "pandas                    1.3.5            py39h8c16a72_0    defaults\n",
      "scikit-learn              1.0.1            py39h51133e4_0    defaults\n",
      "skl2onnx                  1.10.3             pyhd8ed1ab_0    conda-forge\n"
     ]
    }
   ],
   "source": [
    "!conda list -n onnx_sandbox | grep \"\\(onnx\\|scikit\\|numpy\\|pandas\\)\""
   ]
  },
  {
   "cell_type": "markdown",
   "id": "38fa3a48-3078-46cd-b6c9-5566d324b427",
   "metadata": {},
   "source": [
    "## Import required libraries"
   ]
  },
  {
   "cell_type": "code",
   "execution_count": 3,
   "id": "966424ea-1b21-4367-bd9a-3f64c5ce0fce",
   "metadata": {},
   "outputs": [],
   "source": [
    "import os\n",
    "import pandas as pd\n",
    "import numpy as np\n",
    "import onnxruntime as rt\n",
    "import pickle\n",
    "import gc"
   ]
  },
  {
   "cell_type": "markdown",
   "id": "9a6acbdc-c6d2-493e-aa13-a140bccd157e",
   "metadata": {
    "tags": []
   },
   "source": [
    "## Setup on configuration for analysis"
   ]
  },
  {
   "cell_type": "code",
   "execution_count": 4,
   "id": "ed42678a-aafe-46bf-b115-0b31f4733f1b",
   "metadata": {},
   "outputs": [],
   "source": [
    "# required to allow for import of project speccific utility functions\n",
    "os.chdir('..')"
   ]
  },
  {
   "cell_type": "code",
   "execution_count": 5,
   "id": "26e1509c-f900-4f9c-8db9-d2a719ef53aa",
   "metadata": {},
   "outputs": [],
   "source": [
    "# import project specific utiity functions\n",
    "from utils.utils import load_config, actualsize_mb, actualsize, deep_getsizeof"
   ]
  },
  {
   "cell_type": "code",
   "execution_count": 6,
   "id": "89a1ab54-84a2-48ef-87ac-6bccf74d6547",
   "metadata": {},
   "outputs": [
    {
     "data": {
      "text/plain": [
       "{'data_dir': '/Users/jim/Desktop/onnx_sandbox/data',\n",
       " 'models_dir': '/Users/jim/Desktop/onnx_sandbox/models',\n",
       " 'number_records': 100000,\n",
       " 'number_features': 20,\n",
       " 'number_informative': 14,\n",
       " 'number_trees': 500,\n",
       " 'fraction_for_test': 0.2,\n",
       " 'number_counties': 20,\n",
       " 'random_seed': 123}"
      ]
     },
     "execution_count": 6,
     "metadata": {},
     "output_type": "execute_result"
    }
   ],
   "source": [
    "# get configuration parameters\n",
    "config = load_config('./config.yaml')\n",
    "config"
   ]
  },
  {
   "cell_type": "code",
   "execution_count": 7,
   "id": "19f5a6c8-d108-4954-b498-d9895e957b5b",
   "metadata": {},
   "outputs": [],
   "source": [
    "COUNTY_ID = 'cnty0000'\n",
    "MODELS_DIR = config['models_dir']"
   ]
  },
  {
   "cell_type": "markdown",
   "id": "1b96cb09-abf5-4318-a8b8-176097044683",
   "metadata": {},
   "source": [
    "## Repeated model load test"
   ]
  },
  {
   "cell_type": "code",
   "execution_count": 11,
   "id": "d8694f6c-1fee-4e43-8bbc-2bc6b6a4e3e7",
   "metadata": {},
   "outputs": [
    {
     "name": "stdout",
     "output_type": "stream",
     "text": [
      "type: <class 'sklearn.ensemble._forest.RandomForestRegressor'>\n",
      "actualsize: 57,661,964 bytes, deep_getsizeof: 48 bytes\n",
      "CPU times: user 345 ms, sys: 20.3 ms, total: 366 ms\n",
      "Wall time: 365 ms\n"
     ]
    }
   ],
   "source": [
    "%%time\n",
    "\n",
    "with open(os.path.join(MODELS_DIR, 'benchmark', COUNTY_ID+'.pkl'), 'rb') as f:\n",
    "    rf_pkl_model = pickle.load(f)\n",
    "\n",
    "print(f'type: {type(rf_pkl_model)}') \n",
    "print(f'actualsize: {actualsize(rf_pkl_model):,} bytes, deep_getsizeof: {deep_getsizeof(rf_pkl_model, set()):,} bytes')\n"
   ]
  },
  {
   "cell_type": "markdown",
   "id": "beba312b-4db8-4b77-a631-a7058e70ae52",
   "metadata": {},
   "source": [
    "## Repeated model load test  - Delete model object after load"
   ]
  },
  {
   "cell_type": "code",
   "execution_count": 9,
   "id": "5a0a5811-83a1-4d14-82ec-1f31bf5578d3",
   "metadata": {},
   "outputs": [
    {
     "name": "stdout",
     "output_type": "stream",
     "text": [
      "trial 1, memory size: 56,928,411 bytes\n",
      "trial 2, memory size: 56,928,411 bytes\n",
      "trial 3, memory size: 56,928,411 bytes\n",
      "trial 4, memory size: 56,928,718 bytes\n",
      "trial 5, memory size: 56,928,718 bytes\n",
      "trial 6, memory size: 56,928,718 bytes\n",
      "trial 7, memory size: 56,928,718 bytes\n",
      "trial 8, memory size: 56,928,718 bytes\n",
      "trial 9, memory size: 56,928,718 bytes\n",
      "trial 10, memory size: 56,928,718 bytes\n",
      "trial 11, memory size: 56,928,718 bytes\n",
      "trial 12, memory size: 56,928,718 bytes\n",
      "trial 13, memory size: 56,928,718 bytes\n",
      "trial 14, memory size: 56,928,718 bytes\n",
      "trial 15, memory size: 56,928,718 bytes\n",
      "trial 16, memory size: 56,928,718 bytes\n",
      "trial 17, memory size: 56,928,718 bytes\n",
      "trial 18, memory size: 56,928,718 bytes\n",
      "trial 19, memory size: 56,928,718 bytes\n",
      "trial 20, memory size: 56,928,718 bytes\n",
      "CPU times: user 5.65 s, sys: 197 ms, total: 5.84 s\n",
      "Wall time: 5.83 s\n"
     ]
    }
   ],
   "source": [
    "%%time\n",
    "del rf_pkl_model\n",
    "for i in range(20):\n",
    "    with open(os.path.join(MODELS_DIR, 'testbed', COUNTY_ID+'.pkl'), 'rb') as f:\n",
    "        rf_pkl_model = pickle.load(f)\n",
    "    print(f'trial {i+1}, memory size: {actualsize(rf_pkl_model):,} bytes')\n",
    "    del rf_pkl_model"
   ]
  },
  {
   "cell_type": "markdown",
   "id": "66e99bee-9538-44c6-a990-2e455eee6496",
   "metadata": {},
   "source": [
    "## Repeated model load test  - Delete model object after load & garbage collect"
   ]
  },
  {
   "cell_type": "code",
   "execution_count": 10,
   "id": "b9ee2ba6-e455-4041-82e5-0b6ab67ef950",
   "metadata": {},
   "outputs": [
    {
     "name": "stdout",
     "output_type": "stream",
     "text": [
      "gc thresholds: (700, 10, 10), gc counts: (255, 2, 1)\n",
      "trial 1, memory size: 56,932,774 bytes\n",
      "trial 2, memory size: 56,932,774 bytes\n",
      "trial 3, memory size: 56,932,774 bytes\n",
      "trial 4, memory size: 56,932,774 bytes\n",
      "trial 5, memory size: 56,932,774 bytes\n",
      "trial 6, memory size: 56,932,774 bytes\n",
      "trial 7, memory size: 56,932,774 bytes\n",
      "trial 8, memory size: 56,932,774 bytes\n",
      "trial 9, memory size: 56,932,774 bytes\n",
      "trial 10, memory size: 56,932,774 bytes\n",
      "trial 11, memory size: 56,932,774 bytes\n",
      "trial 12, memory size: 56,932,774 bytes\n",
      "trial 13, memory size: 56,932,774 bytes\n",
      "trial 14, memory size: 56,932,774 bytes\n",
      "trial 15, memory size: 56,932,774 bytes\n",
      "trial 16, memory size: 56,932,774 bytes\n",
      "trial 17, memory size: 56,935,198 bytes\n",
      "trial 18, memory size: 56,935,198 bytes\n",
      "trial 19, memory size: 56,935,198 bytes\n",
      "trial 20, memory size: 56,935,198 bytes\n",
      "gc thresholds: (700, 10, 10), gc counts: (27, 0, 0)\n",
      "CPU times: user 6.61 s, sys: 227 ms, total: 6.84 s\n",
      "Wall time: 6.85 s\n"
     ]
    }
   ],
   "source": [
    "%%time\n",
    "print(f'gc thresholds: {gc.get_threshold()}, gc counts: {gc.get_count()}')\n",
    "gc.collect()\n",
    "for i in range(20):\n",
    "    with open(os.path.join(MODELS_DIR, 'testbed', COUNTY_ID+'.pkl'), 'rb') as f:\n",
    "        rf_pkl_model = pickle.load(f)\n",
    "    print(f'trial {i+1}, memory size: {actualsize(rf_pkl_model):,} bytes')\n",
    "    del rf_pkl_model\n",
    "    gc.collect()\n",
    "print(f'gc thresholds: {gc.get_threshold()}, gc counts: {gc.get_count()}')"
   ]
  }
 ],
 "metadata": {
  "kernelspec": {
   "display_name": "onnx_sandbox",
   "language": "python",
   "name": "onnx_sandbox"
  },
  "language_info": {
   "codemirror_mode": {
    "name": "ipython",
    "version": 3
   },
   "file_extension": ".py",
   "mimetype": "text/x-python",
   "name": "python",
   "nbconvert_exporter": "python",
   "pygments_lexer": "ipython3",
   "version": "3.9.7"
  }
 },
 "nbformat": 4,
 "nbformat_minor": 5
}
