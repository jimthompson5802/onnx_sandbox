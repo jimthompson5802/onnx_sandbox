{
 "cells": [
  {
   "cell_type": "code",
   "execution_count": 1,
   "metadata": {
    "collapsed": false,
    "jupyter": {
     "outputs_hidden": false
    }
   },
   "outputs": [],
   "source": [
    "%matplotlib inline"
   ]
  },
  {
   "cell_type": "markdown",
   "metadata": {},
   "source": [
    "\n",
    "\n",
    "# Implement a new converter\n",
    "\n",
    ".. index:: custom converter\n",
    "\n",
    "By default, :epkg:`sklearn-onnx` assumes that a classifier\n",
    "has two outputs (label and probabilities), a regressor\n",
    "has one output (prediction), a transform has one output\n",
    "(the transformed data). This example assumes the model to\n",
    "convert is one of them. In that case, a new converter requires\n",
    "in fact two functions:\n",
    "\n",
    "* a shape calculator: it defines the output shape and type\n",
    "  based on the model and input type,\n",
    "* a converter: it actually builds an ONNX graph equivalent\n",
    "  to the prediction function to be converted.\n",
    "\n",
    "This example implements both components for a new model.\n",
    "\n",
    "## Custom model\n",
    "\n",
    "Let's implement a simple custom model using\n",
    ":epkg:`scikit-learn` API. The model is preprocessing\n",
    "which decorrelates correlated random variables.\n",
    "If *X* is a matrix of features, $V=\\frac{1}{n}X'X$\n",
    "is the covariance matrix. We compute $X V^{1/2}$.\n"
   ]
  },
  {
   "cell_type": "code",
   "execution_count": 2,
   "metadata": {
    "collapsed": false,
    "jupyter": {
     "outputs_hidden": false
    }
   },
   "outputs": [
    {
     "name": "stdout",
     "output_type": "stream",
     "text": [
      "[[ 0.0167562   0.52111756 -1.24946737 -0.56194325]\n",
      " [-0.0727878  -0.80853732 -1.43841018 -0.37441392]\n",
      " [-0.69971891 -0.09950908 -1.2138161  -0.3499275 ]\n",
      " [-1.13063404 -0.13540568 -0.79087008 -0.73938966]\n",
      " [-0.35790036  0.91900236 -1.04034399 -0.6509266 ]]\n"
     ]
    }
   ],
   "source": [
    "from mlprodict.onnxrt import OnnxInference\n",
    "from pyquickhelper.helpgen.graphviz_helper import plot_graphviz\n",
    "import pickle\n",
    "from io import BytesIO\n",
    "import numpy\n",
    "from numpy.testing import assert_almost_equal\n",
    "from onnxruntime import InferenceSession\n",
    "from sklearn.base import TransformerMixin, BaseEstimator\n",
    "from sklearn.datasets import load_iris\n",
    "from skl2onnx.common.data_types import guess_numpy_type\n",
    "from skl2onnx import to_onnx\n",
    "from skl2onnx import update_registered_converter\n",
    "from skl2onnx.algebra.onnx_ops import OnnxMatMul, OnnxSub\n",
    "\n",
    "\n",
    "class DecorrelateTransformer(TransformerMixin, BaseEstimator):\n",
    "    \"\"\"\n",
    "    Decorrelates correlated gaussian features.\n",
    "\n",
    "    :param alpha: avoids non inversible matrices\n",
    "        by adding *alpha* identity matrix\n",
    "\n",
    "    *Attributes*\n",
    "\n",
    "    * `self.mean_`: average\n",
    "    * `self.coef_`: square root of the coveriance matrix\n",
    "    \"\"\"\n",
    "\n",
    "    def __init__(self, alpha=0.):\n",
    "        BaseEstimator.__init__(self)\n",
    "        TransformerMixin.__init__(self)\n",
    "        self.alpha = alpha\n",
    "\n",
    "    def fit(self, X, y=None, sample_weights=None):\n",
    "        if sample_weights is not None:\n",
    "            raise NotImplementedError(\n",
    "                \"sample_weights != None is not implemented.\")\n",
    "        self.mean_ = numpy.mean(X, axis=0, keepdims=True)\n",
    "        X = X - self.mean_\n",
    "        V = X.T @ X / X.shape[0]\n",
    "        if self.alpha != 0:\n",
    "            V += numpy.identity(V.shape[0]) * self.alpha\n",
    "        L, P = numpy.linalg.eig(V)\n",
    "        Linv = L ** (-0.5)\n",
    "        diag = numpy.diag(Linv)\n",
    "        root = P @ diag @ P.transpose()\n",
    "        self.coef_ = root\n",
    "        return self\n",
    "\n",
    "    def transform(self, X):\n",
    "        return (X - self.mean_) @ self.coef_\n",
    "\n",
    "\n",
    "def test_decorrelate_transformer():\n",
    "    data = load_iris()\n",
    "    X = data.data\n",
    "\n",
    "    dec = DecorrelateTransformer()\n",
    "    dec.fit(X)\n",
    "    pred = dec.transform(X)\n",
    "    cov = pred.T @ pred\n",
    "    cov /= cov[0, 0]\n",
    "    assert_almost_equal(numpy.identity(4), cov)\n",
    "\n",
    "    dec = DecorrelateTransformer(alpha=1e-10)\n",
    "    dec.fit(X)\n",
    "    pred = dec.transform(X)\n",
    "    cov = pred.T @ pred\n",
    "    cov /= cov[0, 0]\n",
    "    assert_almost_equal(numpy.identity(4), cov)\n",
    "\n",
    "    st = BytesIO()\n",
    "    pickle.dump(dec, st)\n",
    "    dec2 = pickle.load(BytesIO(st.getvalue()))\n",
    "    assert_almost_equal(dec.mean_, dec2.mean_)\n",
    "    assert_almost_equal(dec.coef_, dec2.coef_)\n",
    "    assert id(dec.mean_) != id(dec2.mean_)\n",
    "    assert id(dec.coef_) != id(dec2.coef_)\n",
    "\n",
    "\n",
    "test_decorrelate_transformer()\n",
    "\n",
    "data = load_iris()\n",
    "X = data.data\n",
    "\n",
    "dec = DecorrelateTransformer()\n",
    "dec.fit(X)\n",
    "pred = dec.transform(X[:5])\n",
    "print(pred)"
   ]
  },
  {
   "cell_type": "markdown",
   "metadata": {},
   "source": [
    "Trained coefficients.\n",
    "\n"
   ]
  },
  {
   "cell_type": "code",
   "execution_count": 3,
   "metadata": {
    "collapsed": false,
    "jupyter": {
     "outputs_hidden": false
    }
   },
   "outputs": [
    {
     "name": "stdout",
     "output_type": "stream",
     "text": [
      "[[5.84333333 3.05733333 3.758      1.19933333]]\n",
      "[[ 2.8040383  -0.94252732 -1.22382017  0.36769632]\n",
      " [-0.94252732  3.03632069  0.86741369 -0.52213719]\n",
      " [-1.22382017  0.86741369  1.93652687 -2.02453122]\n",
      " [ 0.36769632 -0.52213719 -2.02453122  4.83455725]]\n"
     ]
    }
   ],
   "source": [
    "print(dec.mean_)\n",
    "print(dec.coef_)"
   ]
  },
  {
   "cell_type": "markdown",
   "metadata": {},
   "source": [
    "## Conversion into ONNX\n",
    "\n",
    "Let's try to convert it and see what happens.\n",
    "\n"
   ]
  },
  {
   "cell_type": "code",
   "execution_count": 4,
   "metadata": {
    "collapsed": false,
    "jupyter": {
     "outputs_hidden": false
    }
   },
   "outputs": [
    {
     "name": "stdout",
     "output_type": "stream",
     "text": [
      "Unable to find a shape calculator for type '<class '__main__.DecorrelateTransformer'>'.\n",
      "It usually means the pipeline being converted contains a\n",
      "transformer or a predictor with no corresponding converter\n",
      "implemented in sklearn-onnx. If the converted is implemented\n",
      "in another library, you need to register\n",
      "the converted so that it can be used by sklearn-onnx (function\n",
      "update_registered_converter). If the model is not yet covered\n",
      "by sklearn-onnx, you may raise an issue to\n",
      "https://github.com/onnx/sklearn-onnx/issues\n",
      "to get the converter implemented or even contribute to the\n",
      "project. If the model is a custom model, a new converter must\n",
      "be implemented. Examples can be found in the gallery.\n",
      "\n"
     ]
    }
   ],
   "source": [
    "try:\n",
    "    to_onnx(dec, X.astype(numpy.float32))\n",
    "except Exception as e:\n",
    "    print(e)"
   ]
  },
  {
   "cell_type": "markdown",
   "metadata": {},
   "source": [
    "This error means there is no converter associated\n",
    "to *DecorrelateTransformer*. Let's implement it.\n",
    "It requires the two following\n",
    "functions, a shape calculator and a converter\n",
    "with the same signature as below.\n",
    "First the shape calculator. We retrieve the input type\n",
    "add tells the output type has the same type,\n",
    "the same number of rows and a specific number of columns.\n",
    "\n"
   ]
  },
  {
   "cell_type": "code",
   "execution_count": 5,
   "metadata": {
    "collapsed": false,
    "jupyter": {
     "outputs_hidden": false
    }
   },
   "outputs": [],
   "source": [
    "def decorrelate_transformer_shape_calculator(operator):\n",
    "    op = operator.raw_operator\n",
    "    input_type = operator.inputs[0].type.__class__\n",
    "    # The shape may be unknown. *get_first_dimension*\n",
    "    # returns the appropriate value, None in most cases\n",
    "    # meaning the transformer can process any batch of observations.\n",
    "    input_dim = operator.inputs[0].get_first_dimension()\n",
    "    output_type = input_type([input_dim, op.coef_.shape[1]])\n",
    "    operator.outputs[0].type = output_type"
   ]
  },
  {
   "cell_type": "markdown",
   "metadata": {},
   "source": [
    "The converter. One thing we need to pay attention to\n",
    "is the target opset. This information is important\n",
    "to make sure that every node is defined following the\n",
    "specifications of that opset.\n",
    "\n"
   ]
  },
  {
   "cell_type": "code",
   "execution_count": 6,
   "metadata": {
    "collapsed": false,
    "jupyter": {
     "outputs_hidden": false
    }
   },
   "outputs": [],
   "source": [
    "def decorrelate_transformer_converter(scope, operator, container):\n",
    "    op = operator.raw_operator\n",
    "    opv = container.target_opset\n",
    "    out = operator.outputs\n",
    "\n",
    "    # We retrieve the unique input.\n",
    "    X = operator.inputs[0]\n",
    "\n",
    "    # In most case, computation happen in floats.\n",
    "    # But it might be with double. ONNX is very strict\n",
    "    # about types, every constant should have the same\n",
    "    # type as the input.\n",
    "    dtype = guess_numpy_type(X.type)\n",
    "\n",
    "    # We tell in ONNX language how to compute the unique output.\n",
    "    # op_version=opv tells which opset is requested\n",
    "    Y = OnnxMatMul(\n",
    "        OnnxSub(X, op.mean_.astype(dtype), op_version=opv),\n",
    "        op.coef_.astype(dtype),\n",
    "        op_version=opv, output_names=out[:1])\n",
    "    Y.add_to(scope, container)"
   ]
  },
  {
   "cell_type": "markdown",
   "metadata": {},
   "source": [
    "We need to let *skl2onnx* know about the new converter.\n",
    "\n"
   ]
  },
  {
   "cell_type": "code",
   "execution_count": 7,
   "metadata": {
    "collapsed": false,
    "jupyter": {
     "outputs_hidden": false
    }
   },
   "outputs": [
    {
     "name": "stdout",
     "output_type": "stream",
     "text": [
      "(6.046576279672422e-07, 0.000295141707503972)\n"
     ]
    }
   ],
   "source": [
    "update_registered_converter(\n",
    "    DecorrelateTransformer, \"SklearnDecorrelateTransformer\",\n",
    "    decorrelate_transformer_shape_calculator,\n",
    "    decorrelate_transformer_converter)\n",
    "\n",
    "\n",
    "onx = to_onnx(dec, X.astype(numpy.float32))\n",
    "\n",
    "sess = InferenceSession(onx.SerializeToString())\n",
    "\n",
    "exp = dec.transform(X.astype(numpy.float32))\n",
    "got = sess.run(None, {'X': X.astype(numpy.float32)})[0]\n",
    "\n",
    "\n",
    "def diff(p1, p2):\n",
    "    p1 = p1.ravel()\n",
    "    p2 = p2.ravel()\n",
    "    d = numpy.abs(p2 - p1)\n",
    "    return d.max(), (d / numpy.abs(p1)).max()\n",
    "\n",
    "\n",
    "print(diff(exp, got))"
   ]
  },
  {
   "cell_type": "markdown",
   "metadata": {},
   "source": [
    "Let's check it works as well with double.\n",
    "\n"
   ]
  },
  {
   "cell_type": "code",
   "execution_count": 8,
   "metadata": {
    "collapsed": false,
    "jupyter": {
     "outputs_hidden": false
    }
   },
   "outputs": [
    {
     "name": "stdout",
     "output_type": "stream",
     "text": [
      "(1.1102230246251565e-15, 3.4753904038774583e-13)\n"
     ]
    }
   ],
   "source": [
    "onx = to_onnx(dec, X.astype(numpy.float64))\n",
    "\n",
    "sess = InferenceSession(onx.SerializeToString())\n",
    "\n",
    "exp = dec.transform(X.astype(numpy.float64))\n",
    "got = sess.run(None, {'X': X.astype(numpy.float64)})[0]\n",
    "print(diff(exp, got))"
   ]
  },
  {
   "cell_type": "markdown",
   "metadata": {},
   "source": [
    "The differences are smaller with double as expected.\n",
    "\n"
   ]
  },
  {
   "cell_type": "markdown",
   "metadata": {},
   "source": [
    "## Final graph\n",
    "\n"
   ]
  },
  {
   "cell_type": "code",
   "execution_count": 9,
   "metadata": {},
   "outputs": [
    {
     "name": "stdout",
     "output_type": "stream",
     "text": [
      "env: PATH=/opt/conda/envs/onnx_training/bin:/opt/conda/bin:/usr/local/sbin:/usr/local/bin:/usr/sbin:/usr/bin:/sbin:/bin\n"
     ]
    }
   ],
   "source": [
    "current_path = %env PATH\n",
    "%env PATH=/opt/conda/envs/onnx_training/bin:$current_path"
   ]
  },
  {
   "cell_type": "code",
   "execution_count": 10,
   "metadata": {
    "collapsed": false,
    "jupyter": {
     "outputs_hidden": false
    }
   },
   "outputs": [
    {
     "data": {
      "image/png": "[encoded data removed]",
      "text/plain": [
       "<Figure size 432x288 with 1 Axes>"
      ]
     },
     "metadata": {
      "needs_background": "light"
     },
     "output_type": "display_data"
    }
   ],
   "source": [
    "oinf = OnnxInference(onx)\n",
    "ax = plot_graphviz(oinf.to_dot())\n",
    "ax.get_xaxis().set_visible(False)\n",
    "ax.get_yaxis().set_visible(False)"
   ]
  },
  {
   "cell_type": "markdown",
   "metadata": {},
   "source": [
    "## Test saving to disk and reloading model for prediction"
   ]
  },
  {
   "cell_type": "code",
   "execution_count": 11,
   "metadata": {},
   "outputs": [],
   "source": [
    "# save model as onnx file\n",
    "with open('decorrelate_transformer.onnx', 'wb') as f:\n",
    "    f.write(onx.SerializeToString())"
   ]
  },
  {
   "cell_type": "code",
   "execution_count": 12,
   "metadata": {},
   "outputs": [
    {
     "name": "stdout",
     "output_type": "stream",
     "text": [
      "restored model (1.1102230246251565e-15, 3.4753904038774583e-13)\n"
     ]
    }
   ],
   "source": [
    "# retstore the decorrelate transformer and score again\n",
    "\n",
    "sess2 = InferenceSession('decorrelate_transformer.onnx')\n",
    "\n",
    "input_name = sess2.get_inputs()[0].name\n",
    "label_name = sess2.get_outputs()[0].name\n",
    "prediction = sess2.run([label_name], {'X': X.astype(numpy.float64)})[0]\n",
    "\n",
    "print('restored model', diff(exp, prediction))"
   ]
  },
  {
   "cell_type": "code",
   "execution_count": null,
   "metadata": {},
   "outputs": [],
   "source": []
  }
 ],
 "metadata": {
  "kernelspec": {
   "display_name": "onnx_training",
   "language": "python",
   "name": "onnx_training"
  },
  "language_info": {
   "codemirror_mode": {
    "name": "ipython",
    "version": 3
   },
   "file_extension": ".py",
   "mimetype": "text/x-python",
   "name": "python",
   "nbconvert_exporter": "python",
   "pygments_lexer": "ipython3",
   "version": "3.9.0"
  }
 },
 "nbformat": 4,
 "nbformat_minor": 4
}
