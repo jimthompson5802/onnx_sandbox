{
 "cells": [
  {
   "cell_type": "markdown",
   "id": "307a27c4-d7d1-4ae3-a3cf-95eac34ff983",
   "metadata": {},
   "source": [
    "# Load \"large\" RF Model\n",
    "Load RF Model from pkl and onnx\n",
    "\n"
   ]
  },
  {
   "cell_type": "code",
   "execution_count": 1,
   "id": "96bbaaca-f00e-4803-bf05-f4e32c2a8278",
   "metadata": {},
   "outputs": [],
   "source": [
    "import glob\n",
    "import os\n",
    "import numpy as np\n",
    "import pandas as pd\n",
    "from io import StringIO\n",
    "import joblib\n",
    "import time\n",
    "\n",
    "\n",
    "import onnxruntime as rt\n",
    "\n",
    "from mlprodict.onnxrt import OnnxInference\n",
    "from pyquickhelper.helpgen.graphviz_helper import plot_graphviz\n",
    "import matplotlib.pyplot as plt"
   ]
  },
  {
   "cell_type": "code",
   "execution_count": 2,
   "id": "ac9a1d3c-b793-45f1-b3a5-9a8d9716a018",
   "metadata": {},
   "outputs": [],
   "source": [
    "RANDOM_SEED = 123"
   ]
  },
  {
   "cell_type": "markdown",
   "id": "03eec788-ed09-4972-ba67-2da2b7a28c2a",
   "metadata": {},
   "source": [
    "## Model loading"
   ]
  },
  {
   "cell_type": "code",
   "execution_count": 3,
   "id": "2a37ae33-7f61-4f06-aac4-9e2c5b028115",
   "metadata": {},
   "outputs": [
    {
     "name": "stdout",
     "output_type": "stream",
     "text": [
      "CPU times: user 18.2 s, sys: 2.89 s, total: 21.1 s\n",
      "Wall time: 20.9 s\n"
     ]
    }
   ],
   "source": [
    "%%time\n",
    "# collect data on RF tree structure\n",
    "tree_metrics = []\n",
    "rf_models = glob.glob('./large_rf_model.pkl')\n",
    "for model in rf_models:\n",
    "    # get file sizes\n",
    "    fp_parts = os.path.splitext(model)\n",
    "    metrics = {'model': fp_parts[0].split('/')[-1]}\n",
    "    metrics['sklearn_file_size_mb'] = os.path.getsize(model) / (1024 * 1024)\n",
    "    metrics['onnx_file_size_mb'] = os.path.getsize(os.path.join(fp_parts[0] + '.onnx')) / (1024 * 1024)\n",
    "    \n",
    "    t0 = time.perf_counter()\n",
    "    sess = rt.InferenceSession(os.path.join(fp_parts[0] + '.onnx'))\n",
    "    metrics['onnx_load_time_ms'] = 1000 * (time.perf_counter() - t0)\n",
    "    del sess\n",
    "    \n",
    "    # extract tree structure\n",
    "    t0 = time.perf_counter()\n",
    "    rf = joblib.load(model)\n",
    "    metrics['sklearn_load_time_ms'] = 1000 * (time.perf_counter() - t0)\n",
    "    metrics['number_of_trees'] = len(rf.estimators_)\n",
    "    tree_depth = [tree.tree_.max_depth for tree in rf.estimators_]\n",
    "    metrics['tree_min_depth'] = np.min(tree_depth)\n",
    "    metrics['tree_max_depth'] = np.max(tree_depth)\n",
    "    metrics['tree_mean_depth'] = np.mean(tree_depth)\n",
    "    del rf\n",
    "\n",
    "    # collect metrics\n",
    "    tree_metrics.append(metrics)"
   ]
  },
  {
   "cell_type": "code",
   "execution_count": 4,
   "id": "56edcce3-c764-4f24-832e-6aa9a49c4d67",
   "metadata": {},
   "outputs": [
    {
     "data": {
      "text/html": [
       "<div>\n",
       "<style scoped>\n",
       "    .dataframe tbody tr th:only-of-type {\n",
       "        vertical-align: middle;\n",
       "    }\n",
       "\n",
       "    .dataframe tbody tr th {\n",
       "        vertical-align: top;\n",
       "    }\n",
       "\n",
       "    .dataframe thead th {\n",
       "        text-align: right;\n",
       "    }\n",
       "</style>\n",
       "<table border=\"1\" class=\"dataframe\">\n",
       "  <thead>\n",
       "    <tr style=\"text-align: right;\">\n",
       "      <th></th>\n",
       "      <th>model</th>\n",
       "      <th>sklearn_file_size_mb</th>\n",
       "      <th>onnx_file_size_mb</th>\n",
       "      <th>sklearn_load_time_ms</th>\n",
       "      <th>onnx_load_time_ms</th>\n",
       "      <th>number_of_trees</th>\n",
       "      <th>tree_min_depth</th>\n",
       "      <th>tree_mean_depth</th>\n",
       "      <th>tree_max_depth</th>\n",
       "    </tr>\n",
       "  </thead>\n",
       "  <tbody>\n",
       "    <tr>\n",
       "      <th>0</th>\n",
       "      <td>large_rf_model</td>\n",
       "      <td>771.87106</td>\n",
       "      <td>485.680079</td>\n",
       "      <td>1013.354141</td>\n",
       "      <td>18802.051422</td>\n",
       "      <td>1000</td>\n",
       "      <td>22</td>\n",
       "      <td>24.976</td>\n",
       "      <td>32</td>\n",
       "    </tr>\n",
       "  </tbody>\n",
       "</table>\n",
       "</div>"
      ],
      "text/plain": [
       "            model  sklearn_file_size_mb  onnx_file_size_mb  \\\n",
       "0  large_rf_model             771.87106         485.680079   \n",
       "\n",
       "   sklearn_load_time_ms  onnx_load_time_ms  number_of_trees  tree_min_depth  \\\n",
       "0           1013.354141       18802.051422             1000              22   \n",
       "\n",
       "   tree_mean_depth  tree_max_depth  \n",
       "0           24.976              32  "
      ]
     },
     "execution_count": 4,
     "metadata": {},
     "output_type": "execute_result"
    }
   ],
   "source": [
    "# overview of tree structure\n",
    "tree_metrics_df = pd.DataFrame(tree_metrics)\n",
    "# reorder the columns\n",
    "tree_metrics_df = tree_metrics_df[\n",
    "    [\n",
    "        'model', 'sklearn_file_size_mb', 'onnx_file_size_mb', 'sklearn_load_time_ms', 'onnx_load_time_ms',\n",
    "        'number_of_trees', 'tree_min_depth', 'tree_mean_depth', 'tree_max_depth'\n",
    "    ]\n",
    "]\n",
    "tree_metrics_df"
   ]
  },
  {
   "cell_type": "code",
   "execution_count": null,
   "id": "4e81d908-9776-494b-b39a-e9da9b4a5e35",
   "metadata": {},
   "outputs": [],
   "source": []
  }
 ],
 "metadata": {
  "kernelspec": {
   "display_name": "onnx_training",
   "language": "python",
   "name": "onnx_training"
  },
  "language_info": {
   "codemirror_mode": {
    "name": "ipython",
    "version": 3
   },
   "file_extension": ".py",
   "mimetype": "text/x-python",
   "name": "python",
   "nbconvert_exporter": "python",
   "pygments_lexer": "ipython3",
   "version": "3.9.0"
  }
 },
 "nbformat": 4,
 "nbformat_minor": 5
}
