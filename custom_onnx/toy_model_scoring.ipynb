{
 "cells": [
  {
   "cell_type": "markdown",
   "id": "62bac203-ea95-4423-85d4-8484cac6733f",
   "metadata": {},
   "source": [
    "# \"Hello World\" Example Custom Sklearn Model - Scoring Only\n",
    "This notebook assumes the `toy_model_training.ipynb` notebook generated the custom model and saved it in onnx format."
   ]
  },
  {
   "cell_type": "code",
   "execution_count": 1,
   "id": "5a9046a9-24a7-4cb6-b840-ad6486d9f70d",
   "metadata": {},
   "outputs": [],
   "source": [
    "import numpy as np\n",
    "import pandas as pd\n",
    "from io import StringIO\n",
    "\n",
    "import onnxruntime as rt"
   ]
  },
  {
   "cell_type": "markdown",
   "id": "4e63440b-ba11-4f8d-a0d5-bfb90c8afd70",
   "metadata": {},
   "source": [
    "## Generate data"
   ]
  },
  {
   "cell_type": "code",
   "execution_count": 2,
   "id": "c79f8443-b348-4fe0-bdb7-66599424c0de",
   "metadata": {},
   "outputs": [
    {
     "data": {
      "text/html": [
       "<div>\n",
       "<style scoped>\n",
       "    .dataframe tbody tr th:only-of-type {\n",
       "        vertical-align: middle;\n",
       "    }\n",
       "\n",
       "    .dataframe tbody tr th {\n",
       "        vertical-align: top;\n",
       "    }\n",
       "\n",
       "    .dataframe thead th {\n",
       "        text-align: right;\n",
       "    }\n",
       "</style>\n",
       "<table border=\"1\" class=\"dataframe\">\n",
       "  <thead>\n",
       "    <tr style=\"text-align: right;\">\n",
       "      <th></th>\n",
       "      <th>x1</th>\n",
       "      <th>x2</th>\n",
       "      <th>y</th>\n",
       "    </tr>\n",
       "  </thead>\n",
       "  <tbody>\n",
       "    <tr>\n",
       "      <th>0</th>\n",
       "      <td>1</td>\n",
       "      <td>2</td>\n",
       "      <td>11</td>\n",
       "    </tr>\n",
       "    <tr>\n",
       "      <th>1</th>\n",
       "      <td>-3</td>\n",
       "      <td>1</td>\n",
       "      <td>-1</td>\n",
       "    </tr>\n",
       "    <tr>\n",
       "      <th>2</th>\n",
       "      <td>0</td>\n",
       "      <td>0</td>\n",
       "      <td>1</td>\n",
       "    </tr>\n",
       "    <tr>\n",
       "      <th>3</th>\n",
       "      <td>1</td>\n",
       "      <td>1</td>\n",
       "      <td>7</td>\n",
       "    </tr>\n",
       "    <tr>\n",
       "      <th>4</th>\n",
       "      <td>2</td>\n",
       "      <td>2</td>\n",
       "      <td>13</td>\n",
       "    </tr>\n",
       "    <tr>\n",
       "      <th>5</th>\n",
       "      <td>-1</td>\n",
       "      <td>-1</td>\n",
       "      <td>-5</td>\n",
       "    </tr>\n",
       "    <tr>\n",
       "      <th>6</th>\n",
       "      <td>10</td>\n",
       "      <td>10</td>\n",
       "      <td>61</td>\n",
       "    </tr>\n",
       "  </tbody>\n",
       "</table>\n",
       "</div>"
      ],
      "text/plain": [
       "   x1  x2   y\n",
       "0   1   2  11\n",
       "1  -3   1  -1\n",
       "2   0   0   1\n",
       "3   1   1   7\n",
       "4   2   2  13\n",
       "5  -1  -1  -5\n",
       "6  10  10  61"
      ]
     },
     "execution_count": 2,
     "metadata": {},
     "output_type": "execute_result"
    }
   ],
   "source": [
    "test_data = \"\"\"x1,x2,y\n",
    "1,2,11\n",
    "-3,1,-1\n",
    "0,0,1\n",
    "1,1,7\n",
    "2,2,13\n",
    "-1,-1,-5\n",
    "10,10,61\n",
    "\"\"\"\n",
    "test_df = pd.read_csv(StringIO(test_data))\n",
    "test_df"
   ]
  },
  {
   "cell_type": "markdown",
   "id": "00e112f7-5b1c-421d-b354-98c521f9f0a3",
   "metadata": {},
   "source": [
    "## restore model"
   ]
  },
  {
   "cell_type": "code",
   "execution_count": 3,
   "id": "cd487821-03eb-4d49-9ce9-913a21e7521e",
   "metadata": {},
   "outputs": [],
   "source": [
    "# retrieve model from disk\n",
    "sess = rt.InferenceSession('./toy_model.onnx')\n",
    "\n",
    "# get model names\n",
    "input_name = sess.get_inputs()[0].name\n",
    "label_name = sess.get_outputs()[0].name"
   ]
  },
  {
   "cell_type": "markdown",
   "id": "dd0e90e2-4ea8-4aad-9d51-7381248b3129",
   "metadata": {},
   "source": [
    "## Score test data set"
   ]
  },
  {
   "cell_type": "code",
   "execution_count": 4,
   "id": "c6bc5695-f4c9-4058-9c23-a897f902dedd",
   "metadata": {},
   "outputs": [],
   "source": [
    "# score the data set\n",
    "# generate predictions\n",
    "list_of_predictions = sess.run(\n",
    "    [label_name], \n",
    "    {input_name: test_df.drop(['y'], axis=1).to_numpy().astype(np.float32)}\n",
    ")\n",
    "prediction = list_of_predictions[0]"
   ]
  },
  {
   "cell_type": "code",
   "execution_count": 5,
   "id": "8abed49d-4d01-490a-9afc-841696ee35d2",
   "metadata": {},
   "outputs": [
    {
     "name": "stdout",
     "output_type": "stream",
     "text": [
      "predictions:\n",
      "[[11.]\n",
      " [-1.]\n",
      " [ 1.]\n",
      " [ 7.]\n",
      " [13.]\n",
      " [-5.]\n",
      " [61.]]\n"
     ]
    }
   ],
   "source": [
    "print(f'predictions:\\n{prediction}')"
   ]
  },
  {
   "cell_type": "markdown",
   "id": "b90aa5cd-35f8-4a6f-b8c2-89aad069f86f",
   "metadata": {},
   "source": [
    "## Explore the model metadata, inputs and outputs"
   ]
  },
  {
   "cell_type": "code",
   "execution_count": 6,
   "id": "e896cc8b-7a0b-4eab-aadd-f5ea933c103c",
   "metadata": {},
   "outputs": [
    {
     "name": "stdout",
     "output_type": "stream",
     "text": [
      "description: \n",
      "domain: ai.onnx\n",
      "graph_name: 2f407863ce6f4776bbd0fca9c151c614\n",
      "producer_name: skl2onnx\n",
      "version: 0\n"
     ]
    }
   ],
   "source": [
    "model_metadata = sess.get_modelmeta()\n",
    "print(f'description: {model_metadata.description}')\n",
    "print(f'domain: {model_metadata.domain}')\n",
    "print(f'graph_name: {model_metadata.graph_name}')\n",
    "print(f'producer_name: {model_metadata.producer_name}')\n",
    "print(f'version: {model_metadata.version}')"
   ]
  },
  {
   "cell_type": "code",
   "execution_count": 7,
   "id": "7076a42f-f677-48c5-891e-e3473081fd25",
   "metadata": {},
   "outputs": [
    {
     "name": "stdout",
     "output_type": "stream",
     "text": [
      "model inputs:\n",
      "name: float_input, shape:[None, 2], dtype:tensor(float)\n"
     ]
    }
   ],
   "source": [
    "print(\"model inputs:\")\n",
    "for i in sess.get_inputs():\n",
    "    print(f'name: {i.name}, shape:{i.shape}, dtype:{i.type}')"
   ]
  },
  {
   "cell_type": "code",
   "execution_count": 8,
   "id": "c9583be4-a3af-4724-a622-ade3d260a1a5",
   "metadata": {},
   "outputs": [
    {
     "name": "stdout",
     "output_type": "stream",
     "text": [
      "model outputs:\n",
      "name: variable, shape: [None, 1], dtype: tensor(float)\n"
     ]
    }
   ],
   "source": [
    "print(\"model outputs:\")\n",
    "for o in sess.get_outputs():\n",
    "    print(f'name: {o.name}, shape: {o.shape}, dtype: {o.type}')"
   ]
  },
  {
   "cell_type": "code",
   "execution_count": null,
   "id": "e4ea59df-8723-44dd-ae2a-c6e89177d5b0",
   "metadata": {},
   "outputs": [],
   "source": []
  }
 ],
 "metadata": {
  "kernelspec": {
   "display_name": "onnx_scoring",
   "language": "python",
   "name": "onnx_scoring"
  },
  "language_info": {
   "codemirror_mode": {
    "name": "ipython",
    "version": 3
   },
   "file_extension": ".py",
   "mimetype": "text/x-python",
   "name": "python",
   "nbconvert_exporter": "python",
   "pygments_lexer": "ipython3",
   "version": "3.9.7"
  }
 },
 "nbformat": 4,
 "nbformat_minor": 5
}
