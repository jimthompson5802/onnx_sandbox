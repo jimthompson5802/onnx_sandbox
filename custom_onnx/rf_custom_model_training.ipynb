{
 "cells": [
  {
   "cell_type": "markdown",
   "id": "307a27c4-d7d1-4ae3-a3cf-95eac34ff983",
   "metadata": {},
   "source": [
    "# Custom RandomForestRegressor ONNX sklearn model\n",
    "\n",
    "## Work-in-Progress: Partial working\n",
    "* Working `sklearn` RF model with a custom `predict()` method\n",
    "* Working `onnx` RF model that has a partial implementation of the custom `predict()` method\n"
   ]
  },
  {
   "cell_type": "code",
   "execution_count": 1,
   "id": "96bbaaca-f00e-4803-bf05-f4e32c2a8278",
   "metadata": {},
   "outputs": [],
   "source": [
    "\n",
    "from sklearn.ensemble import RandomForestRegressor\n",
    "\n",
    "import numpy as np\n",
    "import pandas as pd\n",
    "from io import StringIO\n",
    "\n",
    "from skl2onnx import convert_sklearn, to_onnx\n",
    "from skl2onnx.common.data_types import FloatTensorType\n",
    "from skl2onnx import update_registered_converter\n",
    "from skl2onnx.common.data_types import guess_numpy_type\n",
    "#from skl2onnx.algebra.onnx_ops import # TBD\n",
    "from skl2onnx.shape_calculators.ensemble_shapes import calculate_tree_regressor_output_shapes\n",
    "from skl2onnx.operator_converters.random_forest import convert_sklearn_random_forest_regressor_converter\n",
    "\n",
    "\n",
    "import onnxruntime as rt\n",
    "\n",
    "from mlprodict.onnxrt import OnnxInference\n",
    "from pyquickhelper.helpgen.graphviz_helper import plot_graphviz\n",
    "import matplotlib.pyplot as plt"
   ]
  },
  {
   "cell_type": "markdown",
   "id": "f983b4ac-2569-4405-8b6d-6008adc6d1d7",
   "metadata": {},
   "source": [
    "## Custom Random Forest Model\n"
   ]
  },
  {
   "cell_type": "code",
   "execution_count": 2,
   "id": "fb16e608-fe76-4956-b543-55e2dc32edca",
   "metadata": {},
   "outputs": [],
   "source": [
    "# define custom RF model class\n",
    "class CustomRandomForestRegressor(RandomForestRegressor):\n",
    "    def __init__(self, **kwargs):\n",
    "        super().__init__(**kwargs)\n",
    "\n",
    "    # override standard predict method\n",
    "    # modifications:\n",
    "    #    invoke super class predict() - super_prediction\n",
    "    #    invoke individual tree estimators\n",
    "    #    compute mean of collection of tree estimators - tree_mean_prediction\n",
    "    #    return super_prediction - tree_mean_prediction, this should result in all zero predictions\n",
    "    def predict(self, X):\n",
    "        # obtain standard RF prediction\n",
    "        super_prediction = super().predict(X)\n",
    "\n",
    "        # compute predictions directly from trees\n",
    "        tree_predictions = [e.predict(X.to_numpy()) for e in self.estimators_]\n",
    "        tree_mean_prediction = np.mean(np.array(tree_predictions), axis=0)\n",
    "\n",
    "        # return the difference between the two predictions, values should all be zero\n",
    "        return super_prediction - tree_mean_prediction\n"
   ]
  },
  {
   "cell_type": "code",
   "execution_count": 3,
   "id": "5402c369-cdc2-46e8-8f59-d980b128164c",
   "metadata": {},
   "outputs": [],
   "source": [
    "rf = CustomRandomForestRegressor(\n",
    "    n_estimators=8,\n",
    "    random_state=13\n",
    ")\n"
   ]
  },
  {
   "cell_type": "markdown",
   "id": "008d60c4-8826-44d5-977a-607e30217fea",
   "metadata": {},
   "source": [
    "## Create some test data"
   ]
  },
  {
   "cell_type": "code",
   "execution_count": 4,
   "id": "66e7ad8b-28d8-4d43-ae0c-d143e8315b8d",
   "metadata": {},
   "outputs": [
    {
     "data": {
      "text/html": [
       "<div>\n",
       "<style scoped>\n",
       "    .dataframe tbody tr th:only-of-type {\n",
       "        vertical-align: middle;\n",
       "    }\n",
       "\n",
       "    .dataframe tbody tr th {\n",
       "        vertical-align: top;\n",
       "    }\n",
       "\n",
       "    .dataframe thead th {\n",
       "        text-align: right;\n",
       "    }\n",
       "</style>\n",
       "<table border=\"1\" class=\"dataframe\">\n",
       "  <thead>\n",
       "    <tr style=\"text-align: right;\">\n",
       "      <th></th>\n",
       "      <th>x1</th>\n",
       "      <th>x2</th>\n",
       "      <th>y</th>\n",
       "    </tr>\n",
       "  </thead>\n",
       "  <tbody>\n",
       "    <tr>\n",
       "      <th>0</th>\n",
       "      <td>1</td>\n",
       "      <td>2</td>\n",
       "      <td>11</td>\n",
       "    </tr>\n",
       "    <tr>\n",
       "      <th>1</th>\n",
       "      <td>-3</td>\n",
       "      <td>1</td>\n",
       "      <td>-1</td>\n",
       "    </tr>\n",
       "    <tr>\n",
       "      <th>2</th>\n",
       "      <td>0</td>\n",
       "      <td>0</td>\n",
       "      <td>1</td>\n",
       "    </tr>\n",
       "    <tr>\n",
       "      <th>3</th>\n",
       "      <td>1</td>\n",
       "      <td>1</td>\n",
       "      <td>7</td>\n",
       "    </tr>\n",
       "  </tbody>\n",
       "</table>\n",
       "</div>"
      ],
      "text/plain": [
       "   x1  x2   y\n",
       "0   1   2  11\n",
       "1  -3   1  -1\n",
       "2   0   0   1\n",
       "3   1   1   7"
      ]
     },
     "execution_count": 4,
     "metadata": {},
     "output_type": "execute_result"
    }
   ],
   "source": [
    "test_data = \"\"\"x1,x2,y\n",
    "1,2,11\n",
    "-3,1,-1\n",
    "0,0,1\n",
    "1,1,7\n",
    "\"\"\"\n",
    "test_df = pd.read_csv(StringIO(test_data))\n",
    "test_df"
   ]
  },
  {
   "cell_type": "markdown",
   "id": "ce1e846b-1e4e-4636-b24a-51617ca675bc",
   "metadata": {},
   "source": [
    "## Train model"
   ]
  },
  {
   "cell_type": "code",
   "execution_count": 5,
   "id": "dbde60d7-815e-4f3e-a924-9ff394e9d86c",
   "metadata": {},
   "outputs": [
    {
     "data": {
      "text/plain": [
       "CustomRandomForestRegressor()"
      ]
     },
     "execution_count": 5,
     "metadata": {},
     "output_type": "execute_result"
    }
   ],
   "source": [
    "rf.fit(test_df.drop(['y'], axis=1), test_df['y'])"
   ]
  },
  {
   "cell_type": "markdown",
   "id": "84958309-3fcf-423e-be6b-9c73fa947655",
   "metadata": {},
   "source": [
    "## Demonstrate that predict() method works\n",
    "\n",
    "**NOTE**:  All predicted values should be zero."
   ]
  },
  {
   "cell_type": "code",
   "execution_count": 6,
   "id": "0827cf71-9ef8-4fbb-a149-da42cdbf5d27",
   "metadata": {},
   "outputs": [
    {
     "name": "stdout",
     "output_type": "stream",
     "text": [
      "predictions: [0. 0. 0. 0.]\n",
      "R2 score: -0.8901098901098901\n",
      "sklearn model 11.0\n"
     ]
    }
   ],
   "source": [
    "rf_prediction = rf.predict(test_df.drop(['y'], axis=1))\n",
    "print(f\"predictions: {rf_prediction}\")\n",
    "print(f\"R2 score: {rf.score(test_df.drop(['y'], axis=1), test_df['y'])}\")\n",
    "print('sklearn model', np.max(np.abs(test_df['y'] - rf_prediction)))"
   ]
  },
  {
   "cell_type": "markdown",
   "id": "7ae9cc75-ab16-4eed-99c8-96c33ff657d4",
   "metadata": {},
   "source": [
    "## Setup to save custom RF model in ONNX"
   ]
  },
  {
   "cell_type": "markdown",
   "id": "5041c196-3451-48dc-9e53-9fd3c46cd768",
   "metadata": {},
   "source": [
    "### Helper functions\n",
    "#### shape calculator helper"
   ]
  },
  {
   "cell_type": "code",
   "execution_count": 7,
   "id": "7beac928-dabd-4f61-854f-6bc79b84e36a",
   "metadata": {},
   "outputs": [],
   "source": [
    "# shape calculator\n",
    "def custom_regressor_shape_calculator(operator):\n",
    "    # TODO: may get by with standard shape calculator\n",
    "\n",
    "    # call standard sklearn shape calculator\n",
    "    calculate_tree_regressor_output_shapes(operator)"
   ]
  },
  {
   "cell_type": "markdown",
   "id": "deb7f984-f10d-48ef-a72c-9c21c5759136",
   "metadata": {},
   "source": [
    "#### Custom operator converter helper"
   ]
  },
  {
   "cell_type": "code",
   "execution_count": 8,
   "id": "9c789389-10e2-40bb-adab-1661dee51fd4",
   "metadata": {},
   "outputs": [],
   "source": [
    "# converter helper\n",
    "def custom_regressor_converter(scope, operator, container):\n",
    "    # TODO: need to figure out the custom ops to return zero \n",
    "   \n",
    "    # TODO: we may need to provide custom equivalent\n",
    "    # call standard sklearn converter\n",
    "    convert_sklearn_random_forest_regressor_converter(scope, operator, container)"
   ]
  },
  {
   "cell_type": "markdown",
   "id": "b97a0fc1-88b2-4c5e-8c0a-bc2cd3225fd8",
   "metadata": {},
   "source": [
    "### Register Custom model with onnx"
   ]
  },
  {
   "cell_type": "code",
   "execution_count": 9,
   "id": "0261047e-81b4-49cb-b398-8e3a7dc649a2",
   "metadata": {},
   "outputs": [],
   "source": [
    "# register custom model with onnx\n",
    "update_registered_converter(\n",
    "    CustomRandomForestRegressor,\n",
    "    \"CustomRandomForestRegressor\",\n",
    "    custom_regressor_shape_calculator,  # custom built\n",
    "    custom_regressor_converter,  # custom built\n",
    "    # required to support standard sklearn RF class\n",
    "    options={\n",
    "        'decision_path': [True, False],\n",
    "        'decision_leaf': [True, False]\n",
    "    }\n",
    ")"
   ]
  },
  {
   "cell_type": "markdown",
   "id": "c6d1cd69-2fed-4d3f-9d43-7c7547992cef",
   "metadata": {},
   "source": [
    "## Save model in onnx format"
   ]
  },
  {
   "cell_type": "code",
   "execution_count": 10,
   "id": "a8ca567f-870a-4e5e-9927-cd70688477e7",
   "metadata": {},
   "outputs": [],
   "source": [
    "# save model as onnx\n",
    "explanatory_var = [('float_input', FloatTensorType([None, 2]))]\n",
    "onnx_model = convert_sklearn(rf, initial_types=explanatory_var)\n",
    "\n",
    "with open('./rf_custom_model.onnx', 'wb') as f:\n",
    "    f.write(onnx_model.SerializeToString())"
   ]
  },
  {
   "cell_type": "markdown",
   "id": "4714090f-c115-47e6-a11b-dc6c7d92ac65",
   "metadata": {},
   "source": [
    "## Display computational graph"
   ]
  },
  {
   "cell_type": "code",
   "execution_count": 11,
   "id": "580355e8-be0b-4f64-86e1-2e30a4bd6057",
   "metadata": {},
   "outputs": [
    {
     "name": "stdout",
     "output_type": "stream",
     "text": [
      "env: PATH=/opt/conda/envs/onnx_training/bin:/opt/conda/bin:/usr/local/sbin:/usr/local/bin:/usr/sbin:/usr/bin:/sbin:/bin\n"
     ]
    }
   ],
   "source": [
    "current_path = %env PATH\n",
    "%env PATH=/opt/conda/envs/onnx_training/bin:$current_path"
   ]
  },
  {
   "cell_type": "markdown",
   "id": "122acd2f-4d08-43f4-b95c-f2f022dc9553",
   "metadata": {},
   "source": [
    "**NOTE**: Missing ops to replicate the custom `predict()` method."
   ]
  },
  {
   "cell_type": "code",
   "execution_count": 12,
   "id": "5f483c04-9635-44b5-9d2a-c68c5361af43",
   "metadata": {},
   "outputs": [
    {
     "data": {
      "image/png": "[encoded data removed]",
      "text/plain": [
       "<Figure size 720x576 with 1 Axes>"
      ]
     },
     "metadata": {
      "needs_background": "light"
     },
     "output_type": "display_data"
    }
   ],
   "source": [
    "oinf = OnnxInference(onnx_model)\n",
    "plt.figure(figsize=(10,8))\n",
    "ax = plot_graphviz(oinf.to_dot())\n",
    "ax.get_xaxis().set_visible(False)\n",
    "ax.get_yaxis().set_visible(False)"
   ]
  },
  {
   "cell_type": "markdown",
   "id": "d39057d9-a8b5-4e4e-bc64-d7104ed6b853",
   "metadata": {},
   "source": [
    "## Load onnx model from disk and score some data"
   ]
  },
  {
   "cell_type": "code",
   "execution_count": 13,
   "id": "7c72643e-b54b-4141-aea9-e237fec2cb0d",
   "metadata": {},
   "outputs": [],
   "source": [
    "# retrieve model from disk\n",
    "sess = rt.InferenceSession('./rf_custom_model.onnx')"
   ]
  },
  {
   "cell_type": "code",
   "execution_count": 14,
   "id": "010fe782-3d5b-4a26-8424-9913833addf2",
   "metadata": {},
   "outputs": [],
   "source": [
    "# get model names\n",
    "input_name = sess.get_inputs()[0].name\n",
    "label_name = sess.get_outputs()[0].name"
   ]
  },
  {
   "cell_type": "code",
   "execution_count": 15,
   "id": "ad5e3712-4e17-4e22-9eb5-b65971e5ee88",
   "metadata": {},
   "outputs": [],
   "source": [
    "# generate predictions\n",
    "list_of_predictions = sess.run(\n",
    "    [label_name], \n",
    "    {'float_input': test_df.drop(['y'], axis=1).to_numpy().astype(np.float32)}\n",
    ")\n",
    "prediction = list_of_predictions[0]"
   ]
  },
  {
   "cell_type": "markdown",
   "id": "b954a7fb-c795-4c22-a8ab-100eddeaeea2",
   "metadata": {},
   "source": [
    "**NOTE**: Custom operations not currently implemented.  Predictions will not match above."
   ]
  },
  {
   "cell_type": "code",
   "execution_count": 16,
   "id": "b9ec50a1-1902-4fbf-8808-e3c87e33f3a8",
   "metadata": {},
   "outputs": [
    {
     "name": "stdout",
     "output_type": "stream",
     "text": [
      "prediction shape: (4, 1)\n",
      "[[10.  ]\n",
      " [ 1.25]\n",
      " [ 3.25]\n",
      " [ 6.25]]\n"
     ]
    }
   ],
   "source": [
    "print(f'prediction shape: {prediction.shape}\\n{prediction}')"
   ]
  },
  {
   "cell_type": "code",
   "execution_count": 17,
   "id": "29d6b130-efba-4756-b3d1-42234bd7e339",
   "metadata": {},
   "outputs": [
    {
     "name": "stdout",
     "output_type": "stream",
     "text": [
      "restored onnx model 2.25\n"
     ]
    }
   ],
   "source": [
    "print('restored onnx model', np.max(np.abs(test_df['y'] - prediction.reshape(-1,))))"
   ]
  },
  {
   "cell_type": "markdown",
   "id": "f4b13342-58e2-4dfd-a9a5-e1cee5723080",
   "metadata": {},
   "source": [
    "## Explore the model metadata, inputs and outputs"
   ]
  },
  {
   "cell_type": "code",
   "execution_count": 18,
   "id": "1030b055-a46a-401c-96bd-6fc04180127c",
   "metadata": {},
   "outputs": [
    {
     "name": "stdout",
     "output_type": "stream",
     "text": [
      "description: \n",
      "domain: ai.onnx\n",
      "graph_name: afbd726135c64ca08ebab72acd7aed32\n",
      "producer_name: skl2onnx\n",
      "version: 0\n"
     ]
    }
   ],
   "source": [
    "model_metadata = sess.get_modelmeta()\n",
    "print(f'description: {model_metadata.description}')\n",
    "print(f'domain: {model_metadata.domain}')\n",
    "print(f'graph_name: {model_metadata.graph_name}')\n",
    "print(f'producer_name: {model_metadata.producer_name}')\n",
    "print(f'version: {model_metadata.version}')"
   ]
  },
  {
   "cell_type": "code",
   "execution_count": 19,
   "id": "97903feb-6d08-40b8-8e82-553763827805",
   "metadata": {},
   "outputs": [
    {
     "name": "stdout",
     "output_type": "stream",
     "text": [
      "model inputs:\n",
      "name: float_input, shape:[None, 2], dtype:tensor(float)\n"
     ]
    }
   ],
   "source": [
    "print(\"model inputs:\")\n",
    "for i in sess.get_inputs():\n",
    "    print(f'name: {i.name}, shape:{i.shape}, dtype:{i.type}')"
   ]
  },
  {
   "cell_type": "code",
   "execution_count": 20,
   "id": "900bcd4d-bceb-44a2-9fcf-21cb4bc0dd6b",
   "metadata": {},
   "outputs": [
    {
     "name": "stdout",
     "output_type": "stream",
     "text": [
      "model outputs:\n",
      "name: variable, shape: [None, 1], dtype: tensor(float)\n"
     ]
    }
   ],
   "source": [
    "print(\"model outputs:\")\n",
    "for o in sess.get_outputs():\n",
    "    print(f'name: {o.name}, shape: {o.shape}, dtype: {o.type}')"
   ]
  },
  {
   "cell_type": "code",
   "execution_count": null,
   "id": "aa9a21f8-f1eb-4491-80db-1ec60acc1bfa",
   "metadata": {},
   "outputs": [],
   "source": []
  }
 ],
 "metadata": {
  "kernelspec": {
   "display_name": "onnx_training",
   "language": "python",
   "name": "onnx_training"
  },
  "language_info": {
   "codemirror_mode": {
    "name": "ipython",
    "version": 3
   },
   "file_extension": ".py",
   "mimetype": "text/x-python",
   "name": "python",
   "nbconvert_exporter": "python",
   "pygments_lexer": "ipython3",
   "version": "3.9.0"
  }
 },
 "nbformat": 4,
 "nbformat_minor": 5
}
