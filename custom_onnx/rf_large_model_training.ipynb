{
 "cells": [
  {
   "cell_type": "markdown",
   "id": "307a27c4-d7d1-4ae3-a3cf-95eac34ff983",
   "metadata": {},
   "source": [
    "# Train \"large\" RF Model\n",
    "Save as both pkl and onnx files\n",
    "\n"
   ]
  },
  {
   "cell_type": "code",
   "execution_count": 1,
   "id": "96bbaaca-f00e-4803-bf05-f4e32c2a8278",
   "metadata": {},
   "outputs": [],
   "source": [
    "import glob\n",
    "import os\n",
    "import numpy as np\n",
    "import pandas as pd\n",
    "from io import StringIO\n",
    "import joblib\n",
    "import time\n",
    "\n",
    "from sklearn.ensemble import RandomForestRegressor\n",
    "from sklearn.datasets import make_regression\n",
    "\n",
    "from skl2onnx import convert_sklearn, to_onnx\n",
    "from skl2onnx.common.data_types import FloatTensorType\n",
    "from skl2onnx import update_registered_converter\n",
    "from skl2onnx.common.data_types import guess_numpy_type\n",
    "from skl2onnx.algebra.onnx_ops import OnnxAdd, OnnxMul, OnnxReduceSum\n",
    "\n",
    "import onnxruntime as rt\n",
    "import onnxmltools\n",
    "\n",
    "from mlprodict.onnxrt import OnnxInference\n",
    "from pyquickhelper.helpgen.graphviz_helper import plot_graphviz\n",
    "import matplotlib.pyplot as plt"
   ]
  },
  {
   "cell_type": "code",
   "execution_count": 2,
   "id": "ac9a1d3c-b793-45f1-b3a5-9a8d9716a018",
   "metadata": {},
   "outputs": [],
   "source": [
    "RANDOM_SEED = 123"
   ]
  },
  {
   "cell_type": "markdown",
   "id": "869423ce-6de4-4bbe-995d-b941cccffa9a",
   "metadata": {},
   "source": [
    "## make training data"
   ]
  },
  {
   "cell_type": "code",
   "execution_count": 3,
   "id": "9936a71f-8c1a-40e9-8cfa-6d68533b88c1",
   "metadata": {},
   "outputs": [
    {
     "name": "stdout",
     "output_type": "stream",
     "text": [
      "(10000, 35) (10000,)\n"
     ]
    }
   ],
   "source": [
    "X, y = make_regression(\n",
    "    n_samples=10000,\n",
    "    n_features=35,\n",
    "    n_informative=20,\n",
    "    n_targets=1,\n",
    "    random_state=RANDOM_SEED\n",
    ")\n",
    "print(X.shape, y.shape)"
   ]
  },
  {
   "cell_type": "markdown",
   "id": "f983b4ac-2569-4405-8b6d-6008adc6d1d7",
   "metadata": {},
   "source": [
    "## Random Forest Model\n"
   ]
  },
  {
   "cell_type": "code",
   "execution_count": 4,
   "id": "5402c369-cdc2-46e8-8f59-d980b128164c",
   "metadata": {},
   "outputs": [],
   "source": [
    "rf = RandomForestRegressor(\n",
    "    n_estimators=1000,\n",
    "    n_jobs=4,\n",
    "    random_state=RANDOM_SEED,\n",
    "    verbose=1\n",
    ")\n"
   ]
  },
  {
   "cell_type": "code",
   "execution_count": 5,
   "id": "dbde60d7-815e-4f3e-a924-9ff394e9d86c",
   "metadata": {},
   "outputs": [
    {
     "name": "stderr",
     "output_type": "stream",
     "text": [
      "[Parallel(n_jobs=4)]: Using backend ThreadingBackend with 4 concurrent workers.\n",
      "[Parallel(n_jobs=4)]: Done  42 tasks      | elapsed:    2.0s\n",
      "[Parallel(n_jobs=4)]: Done 192 tasks      | elapsed:    9.5s\n",
      "[Parallel(n_jobs=4)]: Done 442 tasks      | elapsed:   22.5s\n",
      "[Parallel(n_jobs=4)]: Done 792 tasks      | elapsed:   38.5s\n"
     ]
    },
    {
     "name": "stdout",
     "output_type": "stream",
     "text": [
      "CPU times: user 3min 11s, sys: 753 ms, total: 3min 12s\n",
      "Wall time: 48.3 s\n"
     ]
    },
    {
     "name": "stderr",
     "output_type": "stream",
     "text": [
      "[Parallel(n_jobs=4)]: Done 1000 out of 1000 | elapsed:   48.0s finished\n"
     ]
    },
    {
     "data": {
      "text/plain": [
       "RandomForestRegressor(n_estimators=1000, n_jobs=4, random_state=123, verbose=1)"
      ]
     },
     "execution_count": 5,
     "metadata": {},
     "output_type": "execute_result"
    }
   ],
   "source": [
    "%%time\n",
    "rf.fit(X, y)"
   ]
  },
  {
   "cell_type": "code",
   "execution_count": 6,
   "id": "0741b655-45d7-49de-a52b-426e762dfba5",
   "metadata": {},
   "outputs": [],
   "source": [
    "try:\n",
    "    os.remove('./large_rf_model.pkl')\n",
    "except FileNotFoundError:\n",
    "    pass"
   ]
  },
  {
   "cell_type": "code",
   "execution_count": 7,
   "id": "c4bca838-9ac4-48eb-aa98-d6012706a952",
   "metadata": {},
   "outputs": [
    {
     "name": "stdout",
     "output_type": "stream",
     "text": [
      "CPU times: user 780 ms, sys: 475 ms, total: 1.26 s\n",
      "Wall time: 5.51 s\n"
     ]
    },
    {
     "data": {
      "text/plain": [
       "['./large_rf_model.pkl']"
      ]
     },
     "execution_count": 7,
     "metadata": {},
     "output_type": "execute_result"
    }
   ],
   "source": [
    "%%time\n",
    "joblib.dump(rf,'./large_rf_model.pkl')"
   ]
  },
  {
   "cell_type": "code",
   "execution_count": 8,
   "id": "4c49d53c-305a-485e-b602-7346949d50e6",
   "metadata": {},
   "outputs": [],
   "source": [
    "try:\n",
    "    os.remove('./large_rf_model.onnx')\n",
    "except FileNotFoundError:\n",
    "    pass"
   ]
  },
  {
   "cell_type": "code",
   "execution_count": 9,
   "id": "a8ca567f-870a-4e5e-9927-cd70688477e7",
   "metadata": {},
   "outputs": [
    {
     "name": "stdout",
     "output_type": "stream",
     "text": [
      "CPU times: user 4min 28s, sys: 21 s, total: 4min 49s\n",
      "Wall time: 4min 54s\n"
     ]
    }
   ],
   "source": [
    "%%time\n",
    "# save model as onnx\n",
    "explanatory_var = [('float_input', FloatTensorType([None, 35]))]\n",
    "onnx_model = convert_sklearn(rf, initial_types=explanatory_var)\n",
    "\n",
    "with open('./large_rf_model.onnx', 'wb') as f:\n",
    "    f.write(onnx_model.SerializeToString())"
   ]
  },
  {
   "cell_type": "code",
   "execution_count": 10,
   "id": "c92db84a-dcf1-4be6-8f71-b90736109929",
   "metadata": {},
   "outputs": [],
   "source": [
    "del rf\n",
    "del onnx_model"
   ]
  },
  {
   "cell_type": "markdown",
   "id": "03eec788-ed09-4972-ba67-2da2b7a28c2a",
   "metadata": {},
   "source": [
    "## Model Metrics"
   ]
  },
  {
   "cell_type": "code",
   "execution_count": 11,
   "id": "2a37ae33-7f61-4f06-aac4-9e2c5b028115",
   "metadata": {},
   "outputs": [
    {
     "name": "stdout",
     "output_type": "stream",
     "text": [
      "CPU times: user 38.1 s, sys: 2.94 s, total: 41.1 s\n",
      "Wall time: 48.6 s\n"
     ]
    }
   ],
   "source": [
    "%%time\n",
    "# collect data on RF tree structure\n",
    "tree_metrics = []\n",
    "rf_models = glob.glob('./large_rf_model.pkl')\n",
    "for model in rf_models:\n",
    "    # get file sizes\n",
    "    fp_parts = os.path.splitext(model)\n",
    "    metrics = {'model': fp_parts[0].split('/')[-1]}\n",
    "    metrics['sklearn_file_size_mb'] = os.path.getsize(model) / (1024 * 1024)\n",
    "    metrics['onnx_file_size_mb'] = os.path.getsize(os.path.join(fp_parts[0] + '.onnx')) / (1024 * 1024)\n",
    "    \n",
    "    t0 = time.perf_counter()\n",
    "    sess = rt.InferenceSession(os.path.join(fp_parts[0] + '.onnx'))\n",
    "    metrics['onnx_load_time_ms'] = 1000 * (time.perf_counter() - t0)\n",
    "    del sess\n",
    "    \n",
    "    # extract tree structure\n",
    "    t0 = time.perf_counter()\n",
    "    rf = joblib.load(model)\n",
    "    metrics['sklearn_load_time_ms'] = 1000 * (time.perf_counter() - t0)\n",
    "    metrics['number_of_trees'] = len(rf.estimators_)\n",
    "    tree_depth = [tree.tree_.max_depth for tree in rf.estimators_]\n",
    "    metrics['tree_min_depth'] = np.min(tree_depth)\n",
    "    metrics['tree_max_depth'] = np.max(tree_depth)\n",
    "    metrics['tree_mean_depth'] = np.mean(tree_depth)\n",
    "    del rf\n",
    "\n",
    "    # collect metrics\n",
    "    tree_metrics.append(metrics)"
   ]
  },
  {
   "cell_type": "code",
   "execution_count": 12,
   "id": "56edcce3-c764-4f24-832e-6aa9a49c4d67",
   "metadata": {},
   "outputs": [
    {
     "data": {
      "text/html": [
       "<div>\n",
       "<style scoped>\n",
       "    .dataframe tbody tr th:only-of-type {\n",
       "        vertical-align: middle;\n",
       "    }\n",
       "\n",
       "    .dataframe tbody tr th {\n",
       "        vertical-align: top;\n",
       "    }\n",
       "\n",
       "    .dataframe thead th {\n",
       "        text-align: right;\n",
       "    }\n",
       "</style>\n",
       "<table border=\"1\" class=\"dataframe\">\n",
       "  <thead>\n",
       "    <tr style=\"text-align: right;\">\n",
       "      <th></th>\n",
       "      <th>model</th>\n",
       "      <th>sklearn_file_size_mb</th>\n",
       "      <th>onnx_file_size_mb</th>\n",
       "      <th>sklearn_load_time_ms</th>\n",
       "      <th>onnx_load_time_ms</th>\n",
       "      <th>number_of_trees</th>\n",
       "      <th>tree_min_depth</th>\n",
       "      <th>tree_mean_depth</th>\n",
       "      <th>tree_max_depth</th>\n",
       "    </tr>\n",
       "  </thead>\n",
       "  <tbody>\n",
       "    <tr>\n",
       "      <th>0</th>\n",
       "      <td>large_rf_model</td>\n",
       "      <td>771.87106</td>\n",
       "      <td>485.680079</td>\n",
       "      <td>6768.917385</td>\n",
       "      <td>40344.782985</td>\n",
       "      <td>1000</td>\n",
       "      <td>22</td>\n",
       "      <td>24.976</td>\n",
       "      <td>32</td>\n",
       "    </tr>\n",
       "  </tbody>\n",
       "</table>\n",
       "</div>"
      ],
      "text/plain": [
       "            model  sklearn_file_size_mb  onnx_file_size_mb  \\\n",
       "0  large_rf_model             771.87106         485.680079   \n",
       "\n",
       "   sklearn_load_time_ms  onnx_load_time_ms  number_of_trees  tree_min_depth  \\\n",
       "0           6768.917385       40344.782985             1000              22   \n",
       "\n",
       "   tree_mean_depth  tree_max_depth  \n",
       "0           24.976              32  "
      ]
     },
     "execution_count": 12,
     "metadata": {},
     "output_type": "execute_result"
    }
   ],
   "source": [
    "# overview of tree structure\n",
    "tree_metrics_df = pd.DataFrame(tree_metrics)\n",
    "# reorder the columns\n",
    "tree_metrics_df = tree_metrics_df[\n",
    "    [\n",
    "        'model', 'sklearn_file_size_mb', 'onnx_file_size_mb', 'sklearn_load_time_ms', 'onnx_load_time_ms',\n",
    "        'number_of_trees', 'tree_min_depth', 'tree_mean_depth', 'tree_max_depth'\n",
    "    ]\n",
    "]\n",
    "tree_metrics_df"
   ]
  },
  {
   "cell_type": "code",
   "execution_count": null,
   "id": "4e81d908-9776-494b-b39a-e9da9b4a5e35",
   "metadata": {},
   "outputs": [],
   "source": []
  }
 ],
 "metadata": {
  "kernelspec": {
   "display_name": "onnx_training",
   "language": "python",
   "name": "onnx_training"
  },
  "language_info": {
   "codemirror_mode": {
    "name": "ipython",
    "version": 3
   },
   "file_extension": ".py",
   "mimetype": "text/x-python",
   "name": "python",
   "nbconvert_exporter": "python",
   "pygments_lexer": "ipython3",
   "version": "3.9.0"
  }
 },
 "nbformat": 4,
 "nbformat_minor": 5
}
